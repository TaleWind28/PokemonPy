{
 "cells": [
  {
   "cell_type": "markdown",
   "id": "6af53a20",
   "metadata": {},
   "source": [
    "<center>\n",
    "\n",
    "# SquadBuilder\n",
    "Questo notebook ti guiderà nell'individuazione dei tipi di pokemon necessari per batterli tutti!"
   ]
  },
  {
   "cell_type": "markdown",
   "id": "b441d135",
   "metadata": {},
   "source": [
    "In questo Notebook andremo a creare una squadra che riesce a battere tutti i tipi pokemon. \n",
    "Per farlo è necessario definire cosa sono i Pokemon e di conseguenza cosa è un Tipo associato ai pokemon; La definizione di Pokemon avverrà in un secondo momento in quanto ci interessa soltanto il loro \"typing\" per poter determinare una squadra con la caratteristica definita sopra."
   ]
  },
  {
   "cell_type": "code",
   "execution_count": 85,
   "id": "0668d437",
   "metadata": {},
   "outputs": [],
   "source": [
    "pokemon_types = {\n",
    "    \"Normale\": {\n",
    "        \"debolezze\": [\"Lotta\"],\n",
    "        \"resistenze\": [],\n",
    "        \"immunità\": [\"Spettro\"],\n",
    "        \"superefficacie\": []\n",
    "    },\n",
    "    \"Fuoco\": {\n",
    "        \"debolezze\": [\"Acqua\", \"Terra\", \"Roccia\"],\n",
    "        \"resistenze\": [\"Fuoco\", \"Erba\", \"Ghiaccio\", \"Coleottero\", \"Acciaio\", \"Folletto\"],\n",
    "        \"immunità\": [],\n",
    "        \"superefficacie\": [\"Erba\", \"Coleottero\", \"Ghiaccio\", \"Acciaio\"]\n",
    "    },\n",
    "    \"Acqua\": {\n",
    "        \"debolezze\": [\"Elettro\", \"Erba\"],\n",
    "        \"resistenze\": [\"Fuoco\", \"Acqua\", \"Acciaio\", \"Ghiaccio\"],\n",
    "        \"immunità\": [],\n",
    "        \"superefficacie\": [\"Fuoco\", \"Terra\", \"Roccia\"]\n",
    "    },\n",
    "    \"Erba\": {\n",
    "        \"debolezze\": [\"Fuoco\", \"Ghiaccio\", \"Veleno\", \"Volante\", \"Coleottero\"],\n",
    "        \"resistenze\": [\"Acqua\", \"Erba\", \"Terra\", \"Elettro\"],\n",
    "        \"immunità\": [],\n",
    "        \"superefficacie\": [\"Acqua\", \"Terra\", \"Roccia\"]\n",
    "    },\n",
    "    \"Elettro\": {\n",
    "        \"debolezze\": [\"Terra\"],\n",
    "        \"resistenze\": [\"Acciaio\", \"Elettro\", \"Volante\"],\n",
    "        \"immunità\": [],\n",
    "        \"superefficacie\": [\"Acqua\", \"Volante\"]\n",
    "    },\n",
    "    \"Ghiaccio\": {\n",
    "        \"debolezze\": [\"Fuoco\", \"Lotta\", \"Roccia\", \"Acciaio\"],\n",
    "        \"resistenze\": [\"Ghiaccio\"],\n",
    "        \"immunità\": [],\n",
    "        \"superefficacie\": [\"Erba\", \"Terra\", \"Volante\", \"Drago\"]\n",
    "    },\n",
    "    \"Lotta\": {\n",
    "        \"debolezze\": [\"Volante\", \"Psico\", \"Folletto\"],\n",
    "        \"resistenze\": [\"Roccia\", \"Coleottero\", \"Buio\"],\n",
    "        \"immunità\": [],\n",
    "        \"superefficacie\": [\"Normale\", \"Roccia\", \"Acciaio\", \"Ghiaccio\", \"Buio\"]\n",
    "    },\n",
    "    \"Veleno\": {\n",
    "        \"debolezze\": [\"Psico\", \"Terra\"],\n",
    "        \"resistenze\": [\"Erba\", \"Lotta\", \"Veleno\", \"Coleottero\", \"Folletto\"],\n",
    "        \"immunità\": [],\n",
    "        \"superefficacie\": [\"Erba\", \"Folletto\"]\n",
    "    },\n",
    "    \"Terra\": {\n",
    "        \"debolezze\": [\"Acqua\", \"Erba\", \"Ghiaccio\"],\n",
    "        \"resistenze\": [\"Veleno\", \"Roccia\"],\n",
    "        \"immunità\": [\"Elettro\"],\n",
    "        \"superefficacie\": [\"Fuoco\", \"Elettro\", \"Veleno\", \"Roccia\", \"Acciaio\"]\n",
    "    },\n",
    "    \"Volante\": {\n",
    "        \"debolezze\": [\"Elettro\", \"Ghiaccio\", \"Roccia\"],\n",
    "        \"resistenze\": [\"Erba\", \"Lotta\", \"Coleottero\"],\n",
    "        \"immunità\": [\"Terra\"],\n",
    "        \"superefficacie\": [\"Erba\", \"Lotta\", \"Coleottero\"]\n",
    "    },\n",
    "    \"Psico\": {\n",
    "        \"debolezze\": [\"Buio\", \"Spettro\", \"Coleottero\"],\n",
    "        \"resistenze\": [\"Lotta\", \"Psico\"],\n",
    "        \"immunità\": [],\n",
    "        \"superefficacie\": [\"Lotta\", \"Veleno\"]\n",
    "    },\n",
    "    \"Coleottero\": {\n",
    "        \"debolezze\": [\"Fuoco\", \"Volante\", \"Roccia\"],\n",
    "        \"resistenze\": [\"Erba\", \"Lotta\", \"Terra\"],\n",
    "        \"immunità\": [],\n",
    "        \"superefficacie\": [\"Erba\", \"Psico\", \"Buio\"]\n",
    "    },\n",
    "    \"Roccia\": {\n",
    "        \"debolezze\": [\"Acqua\", \"Erba\", \"Lotta\", \"Acciaio\", \"Terra\"],\n",
    "        \"resistenze\": [\"Normale\", \"Fuoco\", \"Veleno\", \"Volante\"],\n",
    "        \"immunità\": [],\n",
    "        \"superefficacie\": [\"Fuoco\", \"Ghiaccio\", \"Volante\", \"Coleottero\"]\n",
    "    },\n",
    "    \"Spettro\": {\n",
    "        \"debolezze\": [\"Spettro\", \"Buio\"],\n",
    "        \"resistenze\": [\"Veleno\", \"Coleottero\"],\n",
    "        \"immunità\": [\"Normale\", \"Lotta\"],\n",
    "        \"superefficacie\": [\"Psico\", \"Spettro\"]\n",
    "    },\n",
    "    \"Drago\": {\n",
    "        \"debolezze\": [\"Ghiaccio\", \"Drago\", \"Folletto\"],\n",
    "        \"resistenze\": [\"Fuoco\", \"Acqua\", \"Erba\", \"Elettro\"],\n",
    "        \"immunità\": [],\n",
    "        \"superefficacie\": [\"Drago\"]\n",
    "    },\n",
    "    \"Buio\": {\n",
    "        \"debolezze\": [\"Lotta\", \"Coleottero\", \"Folletto\"],\n",
    "        \"resistenze\": [\"Spettro\", \"Buio\"],\n",
    "        \"immunità\": [\"Psico\"],\n",
    "        \"superefficacie\": [\"Psico\", \"Spettro\"]\n",
    "    },\n",
    "    \"Acciaio\": {\n",
    "        \"debolezze\": [\"Fuoco\", \"Lotta\", \"Terra\"],\n",
    "        \"resistenze\": [\"Normale\", \"Volante\", \"Roccia\", \"Coleottero\", \"Acciaio\", \"Erba\", \"Psico\", \"Ghiaccio\", \"Drago\", \"Folletto\"],\n",
    "        \"immunità\": [\"Veleno\"],\n",
    "        \"superefficacie\": [\"Ghiaccio\", \"Roccia\", \"Folletto\"]\n",
    "    },\n",
    "    \"Folletto\": {\n",
    "        \"debolezze\": [\"Acciaio\", \"Veleno\"],\n",
    "        \"resistenze\": [\"Lotta\", \"Coleottero\", \"Buio\"],\n",
    "        \"immunità\": [\"Drago\"],\n",
    "        \"superefficacie\": [\"Lotta\", \"Buio\", \"Drago\"]\n",
    "    }\n",
    "}"
   ]
  },
  {
   "cell_type": "markdown",
   "id": "b8378c2c",
   "metadata": {},
   "source": [
    "definiamo delle funzioni per controllare la bontà della nostra squadra in funzione dei tipi che vengono battuti, ed una funzione per controlare cosa rimane da battere"
   ]
  },
  {
   "cell_type": "code",
   "execution_count": 86,
   "id": "6e5b0130",
   "metadata": {},
   "outputs": [
    {
     "name": "stdout",
     "output_type": "stream",
     "text": [
      "set()\n",
      "{'Acciaio', 'Normale', 'Acqua', 'Spettro', 'Roccia', 'Terra', 'Lotta', 'Elettro', 'Ghiaccio', 'Veleno', 'Drago', 'Folletto', 'Psico', 'Coleottero', 'Erba', 'Fuoco', 'Volante', 'Buio'}\n"
     ]
    }
   ],
   "source": [
    "def covered_types(squad):\n",
    "    \n",
    "    if(len(squad)== 0):return set()\n",
    "\n",
    "    coverage = set(analyzed_type \n",
    "                    for analyzed_type in pokemon_types \n",
    "                    for unchecked_type in pokemon_types[analyzed_type][\"debolezze\"] \n",
    "                    for acquired in squad  if unchecked_type == acquired)\n",
    "    return coverage\n",
    "\n",
    "def uncovered_types(squad):\n",
    "    coverage = covered_types(squad)\n",
    "    \n",
    "    uncovered_types = set(key for key in pokemon_types.keys())\n",
    "    \n",
    "    if len(squad) == 0 or len(coverage)== 0 :\n",
    "        return uncovered_types\n",
    "    else:\n",
    "        return uncovered_types.difference(coverage)\n",
    "    \n",
    "print(covered_types([]))\n",
    "print(uncovered_types([]))\n"
   ]
  },
  {
   "cell_type": "markdown",
   "id": "a7abc65a",
   "metadata": {},
   "source": [
    "Aggiungiamo un \"peso\" ai tipi, ossia forniamo un parametro per capire quali tipi richiedono più attenzione. \n",
    "Interpreteremo il peso come numero di superefficacie che un tipo ha. Inoltre definiamo delle operazioni da fare sui pesi, come aggiornarli e trovare il \"prossimo\" ossia il peso maggiore tra quelli presenti"
   ]
  },
  {
   "cell_type": "code",
   "execution_count": null,
   "id": "ed7252d6",
   "metadata": {},
   "outputs": [],
   "source": [
    "def create_weights():return {pkmon_type:len(pokemon_types[pkmon_type][\"superefficacie\"]) for pkmon_type in pokemon_types}\n",
    "\n",
    "def calculate_weight(super_effectivness,useless_types):\n",
    "    weight = len(super_effectivness) - sum(1 for pkmon_type in super_effectivness for useless_type in useless_types if pkmon_type == useless_type)\n",
    "    if weight == 0:\n",
    "        return -1\n",
    "    else:\n",
    "        return weight\n",
    "\n",
    "def update_wheights(types_checked):\n",
    "    return {pkmon_type:calculate_weight(pokemon_types[pkmon_type][\"superefficacie\"],types_checked) for pkmon_type in pokemon_types}\n",
    "\n",
    "def next_weight(weighted_types):\n",
    "    max = 0\n",
    "    for type in weighted_types:\n",
    "        if weighted_types[type] > max :\n",
    "            max = weighted_types[type]\n",
    "    return max\n"
   ]
  },
  {
   "cell_type": "markdown",
   "id": "3e79b22b",
   "metadata": {},
   "source": [
    "infine dobbiamo controllare i tipi che hanno solo 1 debolezza, in quanto questi ci forzano a prendere la loro debolezza nella coverage"
   ]
  },
  {
   "cell_type": "code",
   "execution_count": 88,
   "id": "8dbd9b7e",
   "metadata": {},
   "outputs": [
    {
     "name": "stdout",
     "output_type": "stream",
     "text": [
      "['Lotta', 'Terra']\n"
     ]
    }
   ],
   "source": [
    "def initialize_squad(squad=[]):\n",
    "    #scrito qui solo per migliorare la leggibilità del codice\n",
    "    mandatory_types = {pokemon_types[pkmon_type][\"debolezze\"][0] for pkmon_type in pokemon_types if len(pokemon_types[pkmon_type][\"debolezze\"]) == 1}\n",
    "    return list(dict.fromkeys([*squad,*mandatory_types]))\n",
    "print (initialize_squad())"
   ]
  },
  {
   "cell_type": "markdown",
   "id": "3a0d5b7a",
   "metadata": {},
   "source": [
    "adesso dobbiamo controllare il prossimo tipo da prendere per continuare la copertura, per farlo sfruttiamo i pesi"
   ]
  },
  {
   "cell_type": "code",
   "execution_count": 89,
   "id": "ecffde3e",
   "metadata": {},
   "outputs": [],
   "source": [
    "def next_types_to_add(coverage):\n",
    "\n",
    "    if(len(coverage)==0):return set(initialize_squad());\n",
    "\n",
    "    updated = update_wheights(coverage)\n",
    "    \n",
    "    return set(\n",
    "            pkmon_type \n",
    "            for pkmon_type in pokemon_types \n",
    "            for covered_type in coverage \n",
    "            if pkmon_type != covered_type and updated[pkmon_type] == next_weight(updated)\n",
    "    )\n"
   ]
  },
  {
   "cell_type": "markdown",
   "id": "86c6fbde",
   "metadata": {},
   "source": [
    "L'obiettivo è quindi minimizzare il numero di pokemon richiesti per battere tutti i tipi, avendo 6 come numero massimo ed 1 come minimo.\n",
    "\n",
    "la squadra è quindi una lista di Pokemon, che al momento non definiamo in quanto sono una quantità mastodontica, pertanto considereremo solo il massimo numero di tipi che 6 pokemon possono avere ossia 12.\n",
    "\n",
    "Infine per avere il risultato minore possibile partiremo da una squadra vuota, ma è sempre possibile aggiungere i tipi per vedere come completare la squadra.\n",
    "Per raggiungere il nostro obiettivo dobbiamo rendere iterativa questa procedura, per farlo necessitiamo di una funzione che unisca le varie funzioni definite prima"
   ]
  },
  {
   "cell_type": "code",
   "execution_count": 90,
   "id": "cb6957eb",
   "metadata": {},
   "outputs": [],
   "source": [
    "def find_best_types(squad,want_print = True ):\n",
    "    #cerco i tipi richiesti\n",
    "    requested_types = uncovered_types(squad);\n",
    "    #se non ne ho allora non devo fare niente\n",
    "    if len(requested_types)== 0 :return print('La tua squadra batte già tutti i tipi, complimenti!')\n",
    "    #creo la coverage dei tipi in base alla squadra\n",
    "    coverage = covered_types(squad)\n",
    "    #cerco i prossimi tipi da far aggiungere all'utente\n",
    "    suggested_types = next_types_to_add(coverage)\n",
    "    if want_print: print(f'La squadra ha bisogno di questi tipi: {suggested_types}')\n",
    "    return suggested_types"
   ]
  },
  {
   "cell_type": "markdown",
   "id": "7150bcd1",
   "metadata": {},
   "source": [
    "Infine dobbiamo aggiungere l'interazione con l'utente per permettere di inserire il tipo, con dei controlli per avere la prima lettera in uppercase e tutto il resto della stringa in lower"
   ]
  },
  {
   "cell_type": "code",
   "execution_count": 91,
   "id": "630f8bcf",
   "metadata": {},
   "outputs": [],
   "source": [
    "def insertType(next_type):\n",
    "    next_type = next_type.lower()\n",
    "    next_type = next_type[0].upper()+next_type[1:]\n",
    "    assert next_type in pokemon_types, f\"{next_type} non è un tipo Pokémon valido\"    \n",
    "    return next_type\n"
   ]
  },
  {
   "cell_type": "markdown",
   "id": "a8b85789",
   "metadata": {},
   "source": [
    "Adesso bisogna solo iterare il procedimento finchè la copertura non è completa"
   ]
  },
  {
   "cell_type": "code",
   "execution_count": 92,
   "id": "eecc38af",
   "metadata": {},
   "outputs": [],
   "source": [
    "def interactive_calculate_coverage(squad):\n",
    "    first = True\n",
    "    while len(covered_types(squad)) <18:\n",
    "        print(f'Squadra attuale: {squad}')\n",
    "        if first:\n",
    "            squad = initialize_squad(squad)\n",
    "            first = False\n",
    "            print(f'Alla tua squadra sono stati aggiunti i tipi: {initialize_squad()}, in quanto sono necessari per battere tipi con una sola debolezza')\n",
    "            continue\n",
    "        find_best_types(squad)\n",
    "        next_type = insertType(input('Inserisci il prossimo tipo'))\n",
    "        print(next_type)\n",
    "        squad.append(next_type)\n",
    "    print(f'La tua squadra {squad} batte tutti i tipi')\n",
    "    return squad\n",
    "\n",
    "# interactive_calculate_coverage([]);"
   ]
  },
  {
   "cell_type": "markdown",
   "id": "103b367e",
   "metadata": {},
   "source": [
    "Mentre se preferiamo avere un'algoritmo autonomo possiamo modificare leggermente il codice, consentendo sempre all'utente di scegliere la composizione iniziale"
   ]
  },
  {
   "cell_type": "code",
   "execution_count": 93,
   "id": "7c891e67",
   "metadata": {},
   "outputs": [
    {
     "name": "stdout",
     "output_type": "stream",
     "text": [
      "La tua squadra ['Lotta', 'Terra', 'Ghiaccio', 'Spettro', 'Volante', 'Elettro', 'Veleno'] batte tutti i tipi\n"
     ]
    }
   ],
   "source": [
    "def calculate_coverage(squad,want_print = True):\n",
    "    first = True\n",
    "    while len(covered_types(squad)) <18:\n",
    "        if want_print: print(f'Squadra attuale: {squad}')\n",
    "        if first:\n",
    "            squad = initialize_squad(squad)\n",
    "            first = False\n",
    "            if want_print:print(f'Alla tua squadra sono stati aggiunti i tipi: {initialize_squad()}, in quanto sono necessari per battere tipi con una sola debolezza')\n",
    "            continue\n",
    "        suggested_types = find_best_types(squad,want_print)\n",
    "        if want_print:print(suggested_types)\n",
    "        if suggested_types: squad.append(suggested_types.pop())\n",
    "    print(f'La tua squadra {squad} batte tutti i tipi')\n",
    "    return squad\n",
    "\n",
    "calculate_coverage([],False);"
   ]
  },
  {
   "cell_type": "markdown",
   "id": "9f7ed85c",
   "metadata": {},
   "source": [
    "Adesso che la copertura è completa possiamo passare al calcolo delle combinazioni di tipi pokemon disponibili, per farlo definiamo una funzione che data una squadra ci restituisce un set di combinazioni"
   ]
  },
  {
   "cell_type": "code",
   "execution_count": 94,
   "id": "07d0a85d",
   "metadata": {},
   "outputs": [
    {
     "name": "stdout",
     "output_type": "stream",
     "text": [
      "La tua squadra ['Lotta', 'Terra', 'Ghiaccio', 'Spettro', 'Volante', 'Elettro', 'Veleno'] batte tutti i tipi\n",
      "Hai a disposizione 21 combinazioni di tipi, che sono elencate di seguito\n",
      "('Lotta', 'Terra')\t('Lotta', 'Ghiaccio')\t('Lotta', 'Spettro')\t('Lotta', 'Volante')\t('Lotta', 'Elettro')\t('Lotta', 'Veleno')\t('Terra', 'Ghiaccio')\t\n",
      "\n",
      "('Terra', 'Spettro')\t('Terra', 'Volante')\t('Terra', 'Elettro')\t('Terra', 'Veleno')\t('Ghiaccio', 'Spettro')\t('Ghiaccio', 'Volante')\t('Ghiaccio', 'Elettro')\t\n",
      "\n",
      "('Ghiaccio', 'Veleno')\t('Spettro', 'Volante')\t('Spettro', 'Elettro')\t('Spettro', 'Veleno')\t('Volante', 'Elettro')\t('Volante', 'Veleno')\t('Elettro', 'Veleno')\t\n",
      "\n"
     ]
    }
   ],
   "source": [
    "import itertools\n",
    "\n",
    "def calculate_combinations(squad):\n",
    "    return list(itertools.combinations(squad, 2))\n",
    "\n",
    "def pretty_print_combs(combs_list):\n",
    "    i = 1\n",
    "    for comb in combs_list:\n",
    "        print(comb,end=\"\\t\")\n",
    "        if i%7== 0 :\n",
    "            print('\\n')\n",
    "        i+=1\n",
    "    return\n",
    "\n",
    "squad = [\"Terra\",\"Lotta\",\"Elettro\",\"Acqua\",\"Volante\"]\n",
    "combs = calculate_combinations(calculate_coverage([],False))\n",
    "print(f'Hai a disposizione {len(combs)} combinazioni di tipi, che sono elencate di seguito')\n",
    "pretty_print_combs(combs)"
   ]
  },
  {
   "cell_type": "markdown",
   "id": "82e3da2f",
   "metadata": {},
   "source": [
    "L'obiettivo è stato raggiunto anche se in maniera parziale, in quanto questi sono solo tipi e non vengono considerate le combinazioni di tipi non attualmente esistenti e soprattutto questi non sono pokemon.\n",
    "Per fare questo dobbiamo appoggiarci al web scraping(devo ancora capire come farlo) recuperando in primo luogo tutte le combinazioni di tipo esistenti, e solo successivamente tutti i pokemon che rientrano nelle combinazioni di tipi esistenti. "
   ]
  },
  {
   "cell_type": "code",
   "execution_count": 95,
   "id": "796900d3",
   "metadata": {},
   "outputs": [],
   "source": [
    "def refine_types(invalid_types):\n",
    "    \n",
    "    return "
   ]
  }
 ],
 "metadata": {
  "kernelspec": {
   "display_name": "venv (3.13.2)",
   "language": "python",
   "name": "python3"
  },
  "language_info": {
   "codemirror_mode": {
    "name": "ipython",
    "version": 3
   },
   "file_extension": ".py",
   "mimetype": "text/x-python",
   "name": "python",
   "nbconvert_exporter": "python",
   "pygments_lexer": "ipython3",
   "version": "3.13.2"
  }
 },
 "nbformat": 4,
 "nbformat_minor": 5
}
