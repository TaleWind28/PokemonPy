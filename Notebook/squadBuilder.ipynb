{
 "cells": [
  {
   "cell_type": "markdown",
   "id": "6af53a20",
   "metadata": {},
   "source": [
    "<center>\n",
    "\n",
    "# SquadBuilder\n",
    "Questo notebook ti guiderà nell'individuazione dei tipi di pokemon necessari per batterli tutti!"
   ]
  },
  {
   "cell_type": "markdown",
   "id": "b441d135",
   "metadata": {},
   "source": [
    "In questo Notebook andremo a creare una squadra **Completa**, ossia una squadra che riesce a battere tutti i tipi pokèmon. \n",
    "Per farlo è necessario definire cosa sono i Pokemon e di conseguenza cosa è un Tipo associato ai pokemon; La definizione di Pokemon avverrà in un secondo momento in quanto ci interessa soltanto il loro \"typing\" per poter determinare una squadra con la caratteristica definita sopra."
   ]
  },
  {
   "cell_type": "code",
   "execution_count": 108,
   "id": "0668d437",
   "metadata": {},
   "outputs": [],
   "source": [
    "pokemon_types = {\n",
    "    \"Normale\": {\n",
    "        \"debolezze\": [\"Lotta\"],\n",
    "        \"resistenze\": [],\n",
    "        \"immunità\": [\"Spettro\"],\n",
    "        \"superefficacie\": []\n",
    "    },\n",
    "    \"Fuoco\": {\n",
    "        \"debolezze\": [\"Acqua\", \"Terra\", \"Roccia\"],\n",
    "        \"resistenze\": [\"Fuoco\", \"Erba\", \"Ghiaccio\", \"Coleottero\", \"Acciaio\", \"Folletto\"],\n",
    "        \"immunità\": [],\n",
    "        \"superefficacie\": [\"Erba\", \"Coleottero\", \"Ghiaccio\", \"Acciaio\"]\n",
    "    },\n",
    "    \"Acqua\": {\n",
    "        \"debolezze\": [\"Elettro\", \"Erba\"],\n",
    "        \"resistenze\": [\"Fuoco\", \"Acqua\", \"Acciaio\", \"Ghiaccio\"],\n",
    "        \"immunità\": [],\n",
    "        \"superefficacie\": [\"Fuoco\", \"Terra\", \"Roccia\"]\n",
    "    },\n",
    "    \"Erba\": {\n",
    "        \"debolezze\": [\"Fuoco\", \"Ghiaccio\", \"Veleno\", \"Volante\", \"Coleottero\"],\n",
    "        \"resistenze\": [\"Acqua\", \"Erba\", \"Terra\", \"Elettro\"],\n",
    "        \"immunità\": [],\n",
    "        \"superefficacie\": [\"Acqua\", \"Terra\", \"Roccia\"]\n",
    "    },\n",
    "    \"Elettro\": {\n",
    "        \"debolezze\": [\"Terra\"],\n",
    "        \"resistenze\": [\"Acciaio\", \"Elettro\", \"Volante\"],\n",
    "        \"immunità\": [],\n",
    "        \"superefficacie\": [\"Acqua\", \"Volante\"]\n",
    "    },\n",
    "    \"Ghiaccio\": {\n",
    "        \"debolezze\": [\"Fuoco\", \"Lotta\", \"Roccia\", \"Acciaio\"],\n",
    "        \"resistenze\": [\"Ghiaccio\"],\n",
    "        \"immunità\": [],\n",
    "        \"superefficacie\": [\"Erba\", \"Terra\", \"Volante\", \"Drago\"]\n",
    "    },\n",
    "    \"Lotta\": {\n",
    "        \"debolezze\": [\"Volante\", \"Psico\", \"Folletto\"],\n",
    "        \"resistenze\": [\"Roccia\", \"Coleottero\", \"Buio\"],\n",
    "        \"immunità\": [],\n",
    "        \"superefficacie\": [\"Normale\", \"Roccia\", \"Acciaio\", \"Ghiaccio\", \"Buio\"]\n",
    "    },\n",
    "    \"Veleno\": {\n",
    "        \"debolezze\": [\"Psico\", \"Terra\"],\n",
    "        \"resistenze\": [\"Erba\", \"Lotta\", \"Veleno\", \"Coleottero\", \"Folletto\"],\n",
    "        \"immunità\": [],\n",
    "        \"superefficacie\": [\"Erba\", \"Folletto\"]\n",
    "    },\n",
    "    \"Terra\": {\n",
    "        \"debolezze\": [\"Acqua\", \"Erba\", \"Ghiaccio\"],\n",
    "        \"resistenze\": [\"Veleno\", \"Roccia\"],\n",
    "        \"immunità\": [\"Elettro\"],\n",
    "        \"superefficacie\": [\"Fuoco\", \"Elettro\", \"Veleno\", \"Roccia\", \"Acciaio\"]\n",
    "    },\n",
    "    \"Volante\": {\n",
    "        \"debolezze\": [\"Elettro\", \"Ghiaccio\", \"Roccia\"],\n",
    "        \"resistenze\": [\"Erba\", \"Lotta\", \"Coleottero\"],\n",
    "        \"immunità\": [\"Terra\"],\n",
    "        \"superefficacie\": [\"Erba\", \"Lotta\", \"Coleottero\"]\n",
    "    },\n",
    "    \"Psico\": {\n",
    "        \"debolezze\": [\"Buio\", \"Spettro\", \"Coleottero\"],\n",
    "        \"resistenze\": [\"Lotta\", \"Psico\"],\n",
    "        \"immunità\": [],\n",
    "        \"superefficacie\": [\"Lotta\", \"Veleno\"]\n",
    "    },\n",
    "    \"Coleottero\": {\n",
    "        \"debolezze\": [\"Fuoco\", \"Volante\", \"Roccia\"],\n",
    "        \"resistenze\": [\"Erba\", \"Lotta\", \"Terra\"],\n",
    "        \"immunità\": [],\n",
    "        \"superefficacie\": [\"Erba\", \"Psico\", \"Buio\"]\n",
    "    },\n",
    "    \"Roccia\": {\n",
    "        \"debolezze\": [\"Acqua\", \"Erba\", \"Lotta\", \"Acciaio\", \"Terra\"],\n",
    "        \"resistenze\": [\"Normale\", \"Fuoco\", \"Veleno\", \"Volante\"],\n",
    "        \"immunità\": [],\n",
    "        \"superefficacie\": [\"Fuoco\", \"Ghiaccio\", \"Volante\", \"Coleottero\"]\n",
    "    },\n",
    "    \"Spettro\": {\n",
    "        \"debolezze\": [\"Spettro\", \"Buio\"],\n",
    "        \"resistenze\": [\"Veleno\", \"Coleottero\"],\n",
    "        \"immunità\": [\"Normale\", \"Lotta\"],\n",
    "        \"superefficacie\": [\"Psico\", \"Spettro\"]\n",
    "    },\n",
    "    \"Drago\": {\n",
    "        \"debolezze\": [\"Ghiaccio\", \"Drago\", \"Folletto\"],\n",
    "        \"resistenze\": [\"Fuoco\", \"Acqua\", \"Erba\", \"Elettro\"],\n",
    "        \"immunità\": [],\n",
    "        \"superefficacie\": [\"Drago\"]\n",
    "    },\n",
    "    \"Buio\": {\n",
    "        \"debolezze\": [\"Lotta\", \"Coleottero\", \"Folletto\"],\n",
    "        \"resistenze\": [\"Spettro\", \"Buio\"],\n",
    "        \"immunità\": [\"Psico\"],\n",
    "        \"superefficacie\": [\"Psico\", \"Spettro\"]\n",
    "    },\n",
    "    \"Acciaio\": {\n",
    "        \"debolezze\": [\"Fuoco\", \"Lotta\", \"Terra\"],\n",
    "        \"resistenze\": [\"Normale\", \"Volante\", \"Roccia\", \"Coleottero\", \"Acciaio\", \"Erba\", \"Psico\", \"Ghiaccio\", \"Drago\", \"Folletto\"],\n",
    "        \"immunità\": [\"Veleno\"],\n",
    "        \"superefficacie\": [\"Ghiaccio\", \"Roccia\", \"Folletto\"]\n",
    "    },\n",
    "    \"Folletto\": {\n",
    "        \"debolezze\": [\"Acciaio\", \"Veleno\"],\n",
    "        \"resistenze\": [\"Lotta\", \"Coleottero\", \"Buio\"],\n",
    "        \"immunità\": [\"Drago\"],\n",
    "        \"superefficacie\": [\"Lotta\", \"Buio\", \"Drago\"]\n",
    "    }\n",
    "}"
   ]
  },
  {
   "cell_type": "markdown",
   "id": "b07dd37e",
   "metadata": {},
   "source": [
    "Definiamo inoltre un dizionario per tradurre i nomi dei tipi pokemon dall'inglese all'italiano, per motivi di scraping dato che recupereremo i pokèmon da **Bulbapedia** che è la wiki inglese a tema Pokèmon"
   ]
  },
  {
   "cell_type": "code",
   "execution_count": 109,
   "id": "c24b35fa",
   "metadata": {},
   "outputs": [],
   "source": [
    "#dizionario per tradurre i tipi pokemon\n",
    "translation_dict = {\n",
    "    'Normal' : 'Normale',\n",
    "    'Fighting' : 'Lotta',\n",
    "    'Flying' : 'Volante',\n",
    "    'Poison' : 'Veleno',\n",
    "    'Ground' : 'Terra',\n",
    "    'Rock' : 'Roccia',\n",
    "    'Bug' : 'Coleottero',\n",
    "    'Ghost' : 'Spettro',\n",
    "    'Steel' : 'Acciaio',\n",
    "    'Fire' : 'Fuoco',\n",
    "    'Water' : 'Acqua',\n",
    "    'Grass' : 'Erba',\n",
    "    'Electric' : 'Elettro',\n",
    "    'Psychic' : 'Psichico',\n",
    "    'Ice' : 'Ghiaccio',\n",
    "    'Dragon' : 'Drago',\n",
    "    'Dark' : 'Buio',\n",
    "    'Fairy' : 'Folletto',\n",
    "}"
   ]
  },
  {
   "cell_type": "markdown",
   "id": "b513d0b8",
   "metadata": {},
   "source": [
    "<center>\n",
    "\n",
    "# Scraping su Bulbapedia"
   ]
  },
  {
   "cell_type": "markdown",
   "id": "70664074",
   "metadata": {},
   "source": [
    "Andiamo ad occuparci della parte più laboriosa, ovvero il recupero dei pokemon esistenti, questo avviene tramite un'apposita funzione di scraping che si occupa di recuperare da **Bulbapedia** tutti i pokemon divisi per generazione."
   ]
  },
  {
   "cell_type": "code",
   "execution_count": 110,
   "id": "9d0d7fa2",
   "metadata": {},
   "outputs": [],
   "source": [
    "import requests\n",
    "import urllib.robotparser\n",
    "from bs4 import BeautifulSoup\n",
    "# URL of the website you want to scrape\n",
    "base_url = 'https://bulbapedia.bulbagarden.net/wiki/'\n",
    "\n",
    "# Parse the robots.txt file\n",
    "rp = urllib.robotparser.RobotFileParser()\n",
    "rp.set_url(base_url + 'robots.txt')\n",
    "rp.read()\n",
    "\n",
    "# Function to check if a URL is allowed by robots.txt\n",
    "def is_allowed(url):\n",
    "    return rp.can_fetch('*', url)\n",
    "\n",
    "# Function to scrape a URL if allowed by robots.txt\n",
    "def scrape_url(url):\n",
    "    if is_allowed(url):\n",
    "        response = requests.get(url)\n",
    "        return response.text\n",
    "    else:\n",
    "        print(f\"Scraping blocked by robots.txt: {url}\")\n",
    "        return 'blocked'"
   ]
  },
  {
   "cell_type": "markdown",
   "id": "cd29d378",
   "metadata": {},
   "source": [
    "## Utilizzo della funzione di Scraping"
   ]
  },
  {
   "cell_type": "code",
   "execution_count": 111,
   "id": "32c35a4c",
   "metadata": {},
   "outputs": [],
   "source": [
    "result = scrape_url(base_url + 'List_of_Pok%C3%A9mon_by_National_Pok%C3%A9dex_number')\n",
    "\n",
    "#se non ho potuto scrapare allora esco\n",
    "if result== 'blocked':\n",
    "    exit(0)\n",
    "\n",
    "soup = BeautifulSoup(result,'html.parser')\n",
    "\n",
    "table = soup.find_all('table',class_='roundy')"
   ]
  },
  {
   "cell_type": "markdown",
   "id": "0c1addff",
   "metadata": {},
   "source": [
    "L'esecuzione della funzione di scraping ci fornisce una tabella contenente tutti i pokemon suddivisi in tabelle in base alla loro generazione, pertanto dobbiamo definire una funzione che ci aiuti a convertire i dati in un **Dataframe pandas**"
   ]
  },
  {
   "cell_type": "code",
   "execution_count": null,
   "id": "d6a58059",
   "metadata": {},
   "outputs": [],
   "source": [
    "import pandas as pd\n",
    "def convert_from_b4s_to_dataframe(b4s):\n",
    "    rows = b4s.find_all(\"tr\")\n",
    "    base_headers = [th.get_text(strip=True) for th in rows[0].find_all([\"th\", \"td\"])]\n",
    "    # individua la colonna Type (se c’è) e prepara i nuovi header\n",
    "    type_idx = base_headers.index(\"Type\") if \"Type\" in base_headers else None\n",
    "    core_headers = (base_headers[:type_idx] if type_idx is not None else base_headers)[:3]\n",
    "    #aggiungo le colonne first Type e Second Type per esprimere meglio i valori relativi ai tipi pokemon\n",
    "    headers = core_headers + [\"First Type\", \"Second Type\"]\n",
    "    #Rimuovo ehader MS perchè è adibita all'imamgine ma non ci serve per i nostri scopi\n",
    "    headers.remove('MS')\n",
    "\n",
    "    data = []\n",
    "    last_index_number = '#0001'\n",
    "\n",
    "    for row in rows[1:]:\n",
    "        cells = row.find_all([\"td\", \"th\"])\n",
    "        if not cells:\n",
    "            continue\n",
    "\n",
    "        texts = [cell.get_text(strip=True) for cell in cells]\n",
    "        \n",
    "        base_cells = texts\n",
    "\n",
    "        if base_cells[0] != '':last_index_number = base_cells[0]\n",
    "        base_cells.remove('')\n",
    "        if base_cells[0][0] != '#':\n",
    "            base_cells.reverse()\n",
    "            base_cells.append(last_index_number)\n",
    "            base_cells.reverse()\n",
    "\n",
    "        base_cells[2] = translation_dict[base_cells[2]]\n",
    "        if len(base_cells)>=4 : base_cells[3] = translation_dict[base_cells[3]]\n",
    "\n",
    "        \n",
    "\n",
    "        if any(base_cells):\n",
    "            data.append(base_cells)\n",
    "\n",
    "    return pd.DataFrame(data, columns=headers)"
   ]
  },
  {
   "cell_type": "markdown",
   "id": "e89bf52f",
   "metadata": {},
   "source": [
    "Successivamente andiamo a memorizzare nella lista **generations** tutti i pokemon"
   ]
  },
  {
   "cell_type": "code",
   "execution_count": null,
   "id": "8d3965f7",
   "metadata": {},
   "outputs": [],
   "source": [
    "generations = [convert_from_b4s_to_dataframe(gen) for gen in table]"
   ]
  },
  {
   "cell_type": "markdown",
   "id": "16417f3e",
   "metadata": {},
   "source": [
    "Infine definiamo delle funzioni per manipolare i dataframe in maniere che ci saranno utili più tardi"
   ]
  },
  {
   "cell_type": "code",
   "execution_count": 114,
   "id": "6785ef23",
   "metadata": {},
   "outputs": [],
   "source": [
    "def create_mask(clauses):\n",
    "    mask = clauses[0]\n",
    "    for clause in clauses[1:]:\n",
    "        mask = mask & clause\n",
    "    return mask\n",
    "\n",
    "\n",
    "def reduce_df(dataframe,types):\n",
    "    if not types:\n",
    "        return dataframe\n",
    "    \n",
    "    hits = pd.Series(0, index=dataframe.index, dtype=\"int64\")\n",
    "\n",
    "    for type_name in types:\n",
    "        clause = (\n",
    "            (dataframe[\"First Type\"] == type_name) |\n",
    "            (dataframe[\"Second Type\"] == type_name)\n",
    "        )\n",
    "        hits += clause.astype(\"int64\")  # conta i match\n",
    "\n",
    "    mask = hits <= 1  # sopravvivono solo i Pokémon con 0 o 1 match\n",
    "    return dataframe[mask]\n",
    "\n",
    "\n",
    "def build_extensive_pokemon_df(coverage):\n",
    "    pokemon = pd.DataFrame()\n",
    "    for type in coverage:\n",
    "        for gen in generations:\n",
    "            second_clause = gen['Second Type'] == type\n",
    "            first_clause = gen['First Type'] == type\n",
    "            element = gen[ first_clause | second_clause]\n",
    "            if not element.empty:\n",
    "                pokemon = pd.concat([pokemon,element])\n",
    "    return pokemon"
   ]
  },
  {
   "cell_type": "markdown",
   "id": "92b9f512",
   "metadata": {},
   "source": [
    "<center>\n",
    "\n",
    "# Ricerca di una squadra Completa"
   ]
  },
  {
   "cell_type": "markdown",
   "id": "b8378c2c",
   "metadata": {},
   "source": [
    "definiamo delle funzioni per controllare la bontà della nostra squadra in funzione dei tipi che vengono battuti, ed una funzione per controlare cosa rimane da battere"
   ]
  },
  {
   "cell_type": "code",
   "execution_count": 115,
   "id": "6e5b0130",
   "metadata": {},
   "outputs": [],
   "source": [
    "def covered_types(squad):\n",
    "    \n",
    "    if(len(squad)== 0):return set()\n",
    "\n",
    "    coverage = set(analyzed_type \n",
    "                    for analyzed_type in pokemon_types \n",
    "                    for unchecked_type in pokemon_types[analyzed_type][\"debolezze\"] \n",
    "                    for acquired in squad  if unchecked_type == acquired)\n",
    "    return coverage\n",
    "\n",
    "def uncovered_types(squad):\n",
    "    coverage = covered_types(squad)\n",
    "    \n",
    "    uncovered_types = set(key for key in pokemon_types.keys())\n",
    "    \n",
    "    if len(squad) == 0 or len(coverage)== 0 :\n",
    "        return uncovered_types\n",
    "    else:\n",
    "        return uncovered_types.difference(coverage)\n",
    "# print(covered_types([]))\n",
    "# print(uncovered_types([]))\n"
   ]
  },
  {
   "cell_type": "markdown",
   "id": "a7abc65a",
   "metadata": {},
   "source": [
    "Aggiungiamo un \"peso\" ai tipi, ossia forniamo un parametro per capire quali tipi richiedono più attenzione. \n",
    "Interpreteremo il peso come numero di superefficacie che un tipo ha. Inoltre definiamo delle operazioni da fare sui pesi, come aggiornarli e trovare il \"prossimo\" ossia il peso maggiore tra quelli presenti"
   ]
  },
  {
   "cell_type": "code",
   "execution_count": 116,
   "id": "ed7252d6",
   "metadata": {},
   "outputs": [],
   "source": [
    "def create_weights():return {pkmon_type:len(pokemon_types[pkmon_type][\"superefficacie\"]) for pkmon_type in pokemon_types}\n",
    "\n",
    "def calculate_weight(super_effectivness,useless_types):\n",
    "    weight = len(super_effectivness) - sum(1 for pkmon_type in super_effectivness for useless_type in useless_types if pkmon_type == useless_type)\n",
    "    if weight == 0:\n",
    "        return -1\n",
    "    else:\n",
    "        return weight\n",
    "\n",
    "def update_wheights(types_checked):\n",
    "    return {pkmon_type:calculate_weight(pokemon_types[pkmon_type][\"superefficacie\"],types_checked) for pkmon_type in pokemon_types}\n",
    "\n",
    "def next_weight(weighted_types):\n",
    "    max = 0\n",
    "    for type in weighted_types:\n",
    "        if weighted_types[type] > max :\n",
    "            max = weighted_types[type]\n",
    "    return max\n"
   ]
  },
  {
   "cell_type": "markdown",
   "id": "3e79b22b",
   "metadata": {},
   "source": [
    "infine dobbiamo controllare i tipi che hanno solo 1 debolezza, in quanto questi ci forzano a prendere la loro debolezza nella coverage"
   ]
  },
  {
   "cell_type": "code",
   "execution_count": 117,
   "id": "8dbd9b7e",
   "metadata": {},
   "outputs": [],
   "source": [
    "def initialize_squad(squad=[]):\n",
    "    #scrito qui solo per migliorare la leggibilità del codice\n",
    "    mandatory_types = {pokemon_types[pkmon_type][\"debolezze\"][0] for pkmon_type in pokemon_types if len(pokemon_types[pkmon_type][\"debolezze\"]) == 1}\n",
    "    return list(dict.fromkeys([*squad,*mandatory_types]))\n",
    "# print (initialize_squad())"
   ]
  },
  {
   "cell_type": "markdown",
   "id": "3a0d5b7a",
   "metadata": {},
   "source": [
    "adesso dobbiamo controllare il prossimo tipo da prendere per continuare la copertura, per farlo sfruttiamo i pesi"
   ]
  },
  {
   "cell_type": "code",
   "execution_count": 118,
   "id": "ecffde3e",
   "metadata": {},
   "outputs": [],
   "source": [
    "def next_types_to_add(coverage):\n",
    "\n",
    "    if(len(coverage)==0):return set(initialize_squad());\n",
    "\n",
    "    updated = update_wheights(coverage)\n",
    "    \n",
    "    return set(\n",
    "            pkmon_type \n",
    "            for pkmon_type in pokemon_types \n",
    "            for covered_type in coverage \n",
    "            if pkmon_type != covered_type and updated[pkmon_type] == next_weight(updated)\n",
    "    )\n",
    "\n",
    "def reduce_coverage(coverage,choices):\n",
    "    for choice in choices:\n",
    "        for type in coverage:\n",
    "            if type == choice:\n",
    "                coverage.remove(choice)\n",
    "    return coverage\n"
   ]
  },
  {
   "cell_type": "markdown",
   "id": "86c6fbde",
   "metadata": {},
   "source": [
    "L'obiettivo è quindi minimizzare il numero di pokemon richiesti per battere tutti i tipi, avendo 6 come numero massimo ed 1 come minimo.\n",
    "\n",
    "la squadra è quindi una lista di Pokemon, che al momento non definiamo in quanto sono una quantità mastodontica, pertanto considereremo solo il massimo numero di tipi che 6 pokemon possono avere ossia 12.\n",
    "\n",
    "Infine per avere il risultato minore possibile partiremo da una squadra vuota, ma è sempre possibile aggiungere i tipi per vedere come completare la squadra.\n",
    "Per raggiungere il nostro obiettivo dobbiamo rendere iterativa questa procedura, per farlo necessitiamo di una funzione che unisca le varie funzioni definite prima"
   ]
  },
  {
   "cell_type": "code",
   "execution_count": 119,
   "id": "cb6957eb",
   "metadata": {},
   "outputs": [],
   "source": [
    "def find_best_types(squad,want_print = True ):\n",
    "    #cerco i tipi richiesti\n",
    "    requested_types = uncovered_types(squad);\n",
    "    #se non ne ho allora non devo fare niente\n",
    "    if len(requested_types)== 0 :return print('La tua squadra batte già tutti i tipi, complimenti!')\n",
    "    #creo la coverage dei tipi in base alla squadra\n",
    "    coverage = covered_types(squad)\n",
    "    #cerco i prossimi tipi da far aggiungere all'utente\n",
    "    suggested_types = next_types_to_add(coverage)\n",
    "    if want_print: print(f'La squadra ha bisogno di questi tipi: {suggested_types}')\n",
    "    return suggested_types"
   ]
  },
  {
   "cell_type": "markdown",
   "id": "7150bcd1",
   "metadata": {},
   "source": [
    "Infine dobbiamo aggiungere l'interazione con l'utente per permettere di inserire il tipo, con dei controlli per avere la prima lettera in uppercase e tutto il resto della stringa in lower"
   ]
  },
  {
   "cell_type": "code",
   "execution_count": 120,
   "id": "630f8bcf",
   "metadata": {},
   "outputs": [],
   "source": [
    "def wants_to_exit(user_input):\n",
    "    if user_input==\" \":return True\n",
    "    if user_input==\"\":return True\n",
    "    if user_input==\"\\n\":return True\n",
    "    \n",
    "    return False\n",
    "\n",
    "\n",
    "def type_input(message):\n",
    "    next_type = input(message)\n",
    "    next_type = next_type.lower()\n",
    "    if wants_to_exit(next_type):return \"exit\"\n",
    "    next_type = next_type[0].upper()+next_type[1:]\n",
    "    assert next_type in pokemon_types, f\"{next_type} non è un tipo Pokémon valido\"\n",
    "    return next_type\n",
    "\n",
    "def insertType(next_type,squad=[]):\n",
    "    try:\n",
    "        next_type = type_input()\n",
    "        squad.append(next_type)\n",
    "        return next_type\n",
    "    except AssertionError as error:\n",
    "        print(f'{error}')\n",
    "        return error\n"
   ]
  },
  {
   "cell_type": "markdown",
   "id": "a8b85789",
   "metadata": {},
   "source": [
    "Adesso bisogna solo iterare il procedimento finchè la copertura non è completa"
   ]
  },
  {
   "cell_type": "code",
   "execution_count": 121,
   "id": "eecc38af",
   "metadata": {},
   "outputs": [],
   "source": [
    "import math\n",
    "def interactive_calculate_coverage(squad):\n",
    "    first = True\n",
    "    while len(covered_types(squad)) <18 and (math.ceil(len(squad)/2) <6 or len(squad) <12):\n",
    "        print(f'Squadra attuale: {squad}')\n",
    "        if first:\n",
    "            squad = initialize_squad(squad)\n",
    "            first = False\n",
    "            print(f'Alla tua squadra sono stati aggiunti i tipi: {initialize_squad()}, in quanto sono necessari per battere tipi con una sola debolezza')\n",
    "            continue\n",
    "        find_best_types(squad)\n",
    "        next_type = insertType(input('Inserisci il prossimo tipo: '),squad)\n",
    "        if next_type == 'exit': return squad \n",
    "        print(f'Tipo {next_type} aggiunto')\n",
    "    \n",
    "    if len(covered_types(squad))<18:print(f'Purtroppo la tua squadra non riesce a battere tutti i tipi')\n",
    "    else: print(f'La tua squadra {squad} batte tutti i tipi, utilizzando {math.ceil(len(squad)/2)}')\n",
    "    \n",
    "    return squad\n",
    "# interactive_calculate_coverage([]);"
   ]
  },
  {
   "cell_type": "markdown",
   "id": "103b367e",
   "metadata": {},
   "source": [
    "Mentre se preferiamo avere un'algoritmo autonomo possiamo modificare leggermente il codice, consentendo sempre all'utente di scegliere la composizione iniziale"
   ]
  },
  {
   "cell_type": "code",
   "execution_count": 122,
   "id": "7c891e67",
   "metadata": {},
   "outputs": [],
   "source": [
    "def calculate_coverage(squad,want_print = True):\n",
    "    first = True\n",
    "    while len(covered_types(squad)) <18:\n",
    "        if want_print: print(f'Squadra attuale: {squad}')\n",
    "        if first:\n",
    "            squad = initialize_squad(squad)\n",
    "            first = False\n",
    "            if want_print:print(f'Alla tua squadra sono stati aggiunti i tipi: {initialize_squad()}, in quanto sono necessari per battere tipi con una sola debolezza')\n",
    "            continue\n",
    "        suggested_types = find_best_types(squad,want_print)\n",
    "        if want_print:print(suggested_types)\n",
    "        if suggested_types: squad.append(suggested_types.pop())\n",
    "    print(f'La tua squadra {squad} batte tutti i tipi')\n",
    "    return squad\n",
    "\n",
    "# calculate_coverage([],False);"
   ]
  },
  {
   "cell_type": "markdown",
   "id": "9f7ed85c",
   "metadata": {},
   "source": [
    "Adesso che la copertura è completa possiamo passare al calcolo delle combinazioni di tipi pokemon disponibili, per farlo definiamo una funzione che data una squadra ci restituisce un set di combinazioni"
   ]
  },
  {
   "cell_type": "code",
   "execution_count": 123,
   "id": "07d0a85d",
   "metadata": {},
   "outputs": [],
   "source": [
    "import itertools\n",
    "\n",
    "def calculate_combinations(squad):\n",
    "    return list(itertools.combinations(squad, 2))\n",
    "\n",
    "def pretty_print_combs(combs_list):\n",
    "    i = 1\n",
    "    for comb in combs_list:\n",
    "        print(comb,end=\"\\t\")\n",
    "        if i%7== 0 :\n",
    "            print('\\n')\n",
    "        i+=1\n",
    "    return\n",
    "\n",
    "def pretty_comb(combs):\n",
    "    for comb in combs:\n",
    "        print(comb)"
   ]
  },
  {
   "cell_type": "markdown",
   "id": "c62e7b65",
   "metadata": {},
   "source": [
    "Adesso Pensiamo a rendere più User-Friendy il progetto dando la possibiiltà di modificare la squadra di partenza direttamente da input"
   ]
  },
  {
   "cell_type": "code",
   "execution_count": 124,
   "id": "32aec403",
   "metadata": {},
   "outputs": [],
   "source": [
    "def user_init_squad(squad=[]):\n",
    "    next_type = \"init\"\n",
    "    while next_type != \"exit\":\n",
    "        next_type = insertType(input(\"Inserisci il prossimo tipo: \"),squad)\n",
    "        print(next_type)\n",
    "    return squad"
   ]
  },
  {
   "cell_type": "markdown",
   "id": "7034c207",
   "metadata": {},
   "source": [
    "## Cella di Test"
   ]
  },
  {
   "cell_type": "code",
   "execution_count": 125,
   "id": "1b075185",
   "metadata": {},
   "outputs": [],
   "source": [
    "# print(\"Scegli i tipi iniziali dei pokemon che vuoi avere in squadra, oppure metti quelli che hai già; Appena hai finito premi invio per uscire\")\n",
    "\n",
    "# squad = user_init_squad();\n",
    "\n",
    "# print(f\"La tua squadra ha attualmente questi tipi: {squad}\");\n",
    "\n",
    "# interactive_calculate_coverage(squad)\n",
    "# coverage = calculate_coverage([],False)\n",
    "\n",
    "# combs = calculate_combinations(coverage)\n",
    "# print(f'Hai a disposizione {len(combs)} combinazioni di tipi, che sono elencate di seguito')\n",
    "\n",
    "# pretty_print_combs(combs)\n"
   ]
  },
  {
   "cell_type": "markdown",
   "id": "82e3da2f",
   "metadata": {},
   "source": [
    "L'obiettivo è stato raggiunto anche se in maniera parziale, in quanto questi sono solo tipi e non vengono considerate le combinazioni di tipi non attualmente esistenti e soprattutto questi non sono pokemon.\n",
    "Per fare questo dobbiamo appoggiarci al web scraping(devo ancora capire come farlo) recuperando in primo luogo tutte le combinazioni di tipo esistenti, e solo successivamente tutti i pokemon che rientrano nelle combinazioni di tipi esistenti. "
   ]
  },
  {
   "cell_type": "markdown",
   "id": "4078415f",
   "metadata": {},
   "source": [
    "## Scelta dei pokemon e creazione della squadra\n",
    "\n",
    "Infine bisogna definire delle funzioni per gestire la creazione dei pokemon, per il momento solo dal punto di vista algoritmico senza interfaccairsi con l'utente"
   ]
  },
  {
   "cell_type": "code",
   "execution_count": 126,
   "id": "b33d6f1d",
   "metadata": {},
   "outputs": [],
   "source": [
    "import numpy as np\n",
    "\n",
    "def choose_pkmon(pokemon,squad,choice):\n",
    "  \n",
    "    mask = create_mask([( pokemon['First Type'] == type) | (pokemon['Second Type'] == type ) for type in choice ])\n",
    "\n",
    "    pick = pokemon.loc[mask].head(1)\n",
    "    \n",
    "    if not squad.empty:\n",
    "        covers_all = all(\n",
    "            ((squad['First Type'] == t) | (squad['Second Type'] == t)).any()\n",
    "            for t in choice\n",
    "        )\n",
    "\n",
    "        if covers_all:\n",
    "            return squad\n",
    "    \n",
    "    return pd.concat([squad,pick])\n",
    "\n",
    "def squad_building_step(pokemon,combs,squad):\n",
    "    #scelta randomica in base ai tipi possibili\n",
    "    choice = combs[np.random.randint(0,len(combs))]\n",
    "    combs.remove(choice)\n",
    "    len_ = len(squad)\n",
    "    squad = choose_pkmon(pokemon,squad,choice)\n",
    "    #se non ho aggiunto ritorno\n",
    "    if len_ == len(squad): return [pokemon,combs,squad]\n",
    "    \n",
    "    pokemon = reduce_df(pokemon,choice)\n",
    "    return [pokemon, combs,squad]\n",
    "\n"
   ]
  },
  {
   "cell_type": "markdown",
   "id": "4af57750",
   "metadata": {},
   "source": [
    "## Adesso definiamo Finalmente la funzione che ci permette di creare una squadra di pokemon\n",
    "Questa funzione richiede una coverage tramite la quale calcolerà le combinazioni possibili, oltre a creare un Dataframe contenente solo i pokemon con i tipi presenti nella coverage, e successivamente eseguirà in un loop la funzione **squad_building_step** per aggiungere via via un pokemon alla squadra. Questa aggiunta è randomica ed avviene mediante un'indice random dell'array **combs** il quale contiene la combinazione di tipo da cercare sul DataFrame, ed in caso di hit la restituisce"
   ]
  },
  {
   "cell_type": "code",
   "execution_count": 127,
   "id": "29d16628",
   "metadata": {},
   "outputs": [],
   "source": [
    "def choose_your_pokemon(coverage):\n",
    "    np.random.seed()\n",
    "    squad = pd.DataFrame()\n",
    "    combs = calculate_combinations(coverage)\n",
    "\n",
    "    #creo il dataframe in base ai tipi necessari\n",
    "    pokemon = build_extensive_pokemon_df(coverage)\n",
    "    \n",
    "    while(len(combs)>0 and len(squad)<6):\n",
    "        [pokemon,combs,squad] = squad_building_step(pokemon,combs,squad)\n",
    "\n",
    "    return squad\n"
   ]
  },
  {
   "cell_type": "markdown",
   "id": "17e6a129",
   "metadata": {},
   "source": [
    "## Simulazione Funzionamento\n"
   ]
  },
  {
   "cell_type": "code",
   "execution_count": 128,
   "id": "dca458bf",
   "metadata": {},
   "outputs": [
    {
     "name": "stdout",
     "output_type": "stream",
     "text": [
      "La tua squadra ['Lotta', 'Terra', 'Ghiaccio', 'Spettro', 'Volante', 'Erba', 'Acciaio'] batte tutti i tipi\n"
     ]
    },
    {
     "data": {
      "text/html": [
       "<div>\n",
       "<style scoped>\n",
       "    .dataframe tbody tr th:only-of-type {\n",
       "        vertical-align: middle;\n",
       "    }\n",
       "\n",
       "    .dataframe tbody tr th {\n",
       "        vertical-align: top;\n",
       "    }\n",
       "\n",
       "    .dataframe thead th {\n",
       "        text-align: right;\n",
       "    }\n",
       "</style>\n",
       "<table border=\"1\" class=\"dataframe\">\n",
       "  <thead>\n",
       "    <tr style=\"text-align: right;\">\n",
       "      <th></th>\n",
       "      <th>Ndex</th>\n",
       "      <th>Pokémon</th>\n",
       "      <th>First Type</th>\n",
       "      <th>Second Type</th>\n",
       "    </tr>\n",
       "  </thead>\n",
       "  <tbody>\n",
       "    <tr>\n",
       "      <th>98</th>\n",
       "      <td>#0478</td>\n",
       "      <td>Froslass</td>\n",
       "      <td>Ghiaccio</td>\n",
       "      <td>Spettro</td>\n",
       "    </tr>\n",
       "    <tr>\n",
       "      <th>19</th>\n",
       "      <td>#0740</td>\n",
       "      <td>Crabominable</td>\n",
       "      <td>Lotta</td>\n",
       "      <td>Ghiaccio</td>\n",
       "    </tr>\n",
       "    <tr>\n",
       "      <th>179</th>\n",
       "      <td>#0145</td>\n",
       "      <td>ZapdosGalarian Form</td>\n",
       "      <td>Lotta</td>\n",
       "      <td>Volante</td>\n",
       "    </tr>\n",
       "    <tr>\n",
       "      <th>74</th>\n",
       "      <td>#0708</td>\n",
       "      <td>Phantump</td>\n",
       "      <td>Spettro</td>\n",
       "      <td>Erba</td>\n",
       "    </tr>\n",
       "    <tr>\n",
       "      <th>77</th>\n",
       "      <td>#0562</td>\n",
       "      <td>YamaskGalarian Form</td>\n",
       "      <td>Terra</td>\n",
       "      <td>Spettro</td>\n",
       "    </tr>\n",
       "    <tr>\n",
       "      <th>120</th>\n",
       "      <td>#0597</td>\n",
       "      <td>Ferroseed</td>\n",
       "      <td>Erba</td>\n",
       "      <td>Acciaio</td>\n",
       "    </tr>\n",
       "  </tbody>\n",
       "</table>\n",
       "</div>"
      ],
      "text/plain": [
       "      Ndex              Pokémon First Type Second Type\n",
       "98   #0478             Froslass   Ghiaccio     Spettro\n",
       "19   #0740         Crabominable      Lotta    Ghiaccio\n",
       "179  #0145  ZapdosGalarian Form      Lotta     Volante\n",
       "74   #0708             Phantump    Spettro        Erba\n",
       "77   #0562  YamaskGalarian Form      Terra     Spettro\n",
       "120  #0597            Ferroseed       Erba     Acciaio"
      ]
     },
     "metadata": {},
     "output_type": "display_data"
    }
   ],
   "source": [
    "squad = choose_your_pokemon(calculate_coverage([],False))\n",
    "display(squad)"
   ]
  },
  {
   "cell_type": "markdown",
   "id": "062c3073",
   "metadata": {},
   "source": [
    "## Risultati Simulazione\n",
    "\n",
    "Dalla simulazione si evince che tutto funziona correttamente ma, nel dataframe non sono contenute abbastanza informazioni per rendere la squadra costruita simile ad una \"standard\", ossia includendo solo stadi finali dei pokemon ed escludendo leggendari e misteriosi.\n",
    "Inoltre non è possibile usare questo algoritmo per giochi pokemon successivi all'ottava Generazione, in quanto non stiamo controllando la presenza dei pokemon nel gioco desiderato"
   ]
  },
  {
   "cell_type": "markdown",
   "id": "d2b3b92a",
   "metadata": {},
   "source": [
    "## Soluzione Parziale: Interazione con L'utente\n",
    "\n",
    "Una soluzione immediata è far interagire l'utente col programma e lasciare a lui la scelta dei pokemon, Rimane sempre il problema con le generazioi successive all'Ottava.\n",
    "Definiamo quindi due funzioni, una per far scegliere all'utente i tipi dei pokemon che desidera inserire nella squadra ed una funzione per inserire effettivamente i pokemon in squadra"
   ]
  },
  {
   "cell_type": "code",
   "execution_count": 129,
   "id": "c43450fb",
   "metadata": {},
   "outputs": [],
   "source": [
    "def interactive_type_choice():\n",
    "    choices = []\n",
    "    try:\n",
    "        while len(choices)<2:\n",
    "            choice = type_input('Scegli una delle combinazioni di tipi elencati per cercare un pokemon corrispondente, (esempio Terra,Lotta)')\n",
    "            if choice == 'exit':\n",
    "                if len(choices)>0:\n",
    "                    break\n",
    "                else: \n",
    "                    continue\n",
    "            choices.append(choice)\n",
    "    except AssertionError as error:\n",
    "        print(error)\n",
    "    return choices\n",
    "\n",
    "def apply_choice(pokemon,squad,chosen,choices,coverage):\n",
    "    #cerco il pokemon scelto\n",
    "    picked = pokemon[pokemon['Pokémon'] == chosen]\n",
    "    #lo aggiungo alla squadra\n",
    "    squad = pd.concat([squad,picked])\n",
    "    squad = squad.drop_duplicates()\n",
    "    #individuo i suoi tipi\n",
    "    chosen_types = [picked.iloc[0]['First Type'], picked.iloc[0]['Second Type']]\n",
    "    #riduco la coverage di conseguenza\n",
    "    coverage = reduce_coverage(coverage,chosen_types)\n",
    "    #riduco il datagrame di conseguenza\n",
    "    pokemon = reduce_df(pokemon,choices)\n",
    "    return [pokemon,squad,coverage]"
   ]
  },
  {
   "cell_type": "markdown",
   "id": "e9defcc6",
   "metadata": {},
   "source": [
    "Successivamente andiamo a definire una funzione per permettere all'utente di scegliere i pokemon secondo la scelta di tipo da lui effettuata"
   ]
  },
  {
   "cell_type": "code",
   "execution_count": 130,
   "id": "6cd1a401",
   "metadata": {},
   "outputs": [],
   "source": [
    "def interactive_choose_pokemon(pokemon,choice):\n",
    "  \n",
    "    mask = create_mask([( pokemon['First Type'] == type) | (pokemon['Second Type'] == type ) for type in choice ])\n",
    "\n",
    "    possible_picks = pokemon.loc[mask].drop_duplicates()\n",
    "    display(possible_picks)\n",
    "\n",
    "    chosen_pokemon = input('inserisci il nome del pokemon che vorresti aggiungere alla squadra')\n",
    "    # print(chosen_pokemon)\n",
    "    \n",
    "    chosen = possible_picks[possible_picks['Pokémon'] == chosen_pokemon] \n",
    "    if chosen.empty:\n",
    "        return None\n",
    "    else:\n",
    "        return chosen.iloc[0]['Pokémon']"
   ]
  },
  {
   "cell_type": "markdown",
   "id": "1c189ede",
   "metadata": {},
   "source": [
    "Definiamo poi i passi che la nostra funzione **interactive_choose_your_pokemon** dovrà compiere"
   ]
  },
  {
   "cell_type": "code",
   "execution_count": 131,
   "id": "aea87a2f",
   "metadata": {},
   "outputs": [],
   "source": [
    "def interactive_squad_building_step(pokemon,squad,coverage):\n",
    "    display(coverage)\n",
    "\n",
    "    choices = interactive_type_choice()\n",
    "    \n",
    "    #scelta di un pokemon da parte dell'utente\n",
    "    chosen = interactive_choose_pokemon(pokemon,choices)\n",
    "    \n",
    "    #controllo se la scelta è andata a buon fine\n",
    "    if chosen == None: return [pokemon,squad,coverage]\n",
    "    else:return apply_choice(pokemon,squad,chosen,choices,coverage)\n"
   ]
  },
  {
   "cell_type": "markdown",
   "id": "22e4e8ff",
   "metadata": {},
   "source": [
    "Ed infine definiamo la funzione **interactive_choose_your_pokemon**"
   ]
  },
  {
   "cell_type": "code",
   "execution_count": 132,
   "id": "f9fd7fa0",
   "metadata": {},
   "outputs": [],
   "source": [
    "def interactive_choose_your_pokemon(coverage):\n",
    "    squad = pd.DataFrame()\n",
    "    # combs = calculate_combinations(coverage)\n",
    "\n",
    "    #creo il dataframe in base ai tipi necessari\n",
    "    pokemon = build_extensive_pokemon_df(coverage)\n",
    "    pokemon = pokemon.drop_duplicates()\n",
    "    while(len(coverage)>0 and len(squad)<6):        \n",
    "        [pokemon,squad,coverage] = interactive_squad_building_step(pokemon,squad,coverage)\n",
    "        display(squad)\n",
    "\n",
    "    return squad"
   ]
  },
  {
   "cell_type": "markdown",
   "id": "aba17b15",
   "metadata": {},
   "source": [
    "## Cella di Test\n"
   ]
  },
  {
   "cell_type": "code",
   "execution_count": 133,
   "id": "9e6c9e1e",
   "metadata": {},
   "outputs": [
    {
     "name": "stdout",
     "output_type": "stream",
     "text": [
      "La tua squadra ['Lotta', 'Terra', 'Ghiaccio', 'Spettro', 'Volante', 'Erba', 'Acciaio'] batte tutti i tipi\n"
     ]
    },
    {
     "data": {
      "text/plain": [
       "['Lotta', 'Terra', 'Ghiaccio', 'Spettro', 'Volante', 'Erba', 'Acciaio']"
      ]
     },
     "metadata": {},
     "output_type": "display_data"
    },
    {
     "data": {
      "text/html": [
       "<div>\n",
       "<style scoped>\n",
       "    .dataframe tbody tr th:only-of-type {\n",
       "        vertical-align: middle;\n",
       "    }\n",
       "\n",
       "    .dataframe tbody tr th {\n",
       "        vertical-align: top;\n",
       "    }\n",
       "\n",
       "    .dataframe thead th {\n",
       "        text-align: right;\n",
       "    }\n",
       "</style>\n",
       "<table border=\"1\" class=\"dataframe\">\n",
       "  <thead>\n",
       "    <tr style=\"text-align: right;\">\n",
       "      <th></th>\n",
       "      <th>Ndex</th>\n",
       "      <th>Pokémon</th>\n",
       "      <th>First Type</th>\n",
       "      <th>Second Type</th>\n",
       "    </tr>\n",
       "  </thead>\n",
       "  <tbody>\n",
       "    <tr>\n",
       "      <th>87</th>\n",
       "      <td>#0984</td>\n",
       "      <td>Great Tusk</td>\n",
       "      <td>Terra</td>\n",
       "      <td>Lotta</td>\n",
       "    </tr>\n",
       "  </tbody>\n",
       "</table>\n",
       "</div>"
      ],
      "text/plain": [
       "     Ndex     Pokémon First Type Second Type\n",
       "87  #0984  Great Tusk      Terra       Lotta"
      ]
     },
     "metadata": {},
     "output_type": "display_data"
    },
    {
     "data": {
      "text/html": [
       "<div>\n",
       "<style scoped>\n",
       "    .dataframe tbody tr th:only-of-type {\n",
       "        vertical-align: middle;\n",
       "    }\n",
       "\n",
       "    .dataframe tbody tr th {\n",
       "        vertical-align: top;\n",
       "    }\n",
       "\n",
       "    .dataframe thead th {\n",
       "        text-align: right;\n",
       "    }\n",
       "</style>\n",
       "<table border=\"1\" class=\"dataframe\">\n",
       "  <thead>\n",
       "    <tr style=\"text-align: right;\">\n",
       "      <th></th>\n",
       "      <th>Ndex</th>\n",
       "      <th>Pokémon</th>\n",
       "      <th>First Type</th>\n",
       "      <th>Second Type</th>\n",
       "    </tr>\n",
       "  </thead>\n",
       "  <tbody>\n",
       "    <tr>\n",
       "      <th>87</th>\n",
       "      <td>#0984</td>\n",
       "      <td>Great Tusk</td>\n",
       "      <td>Terra</td>\n",
       "      <td>Lotta</td>\n",
       "    </tr>\n",
       "  </tbody>\n",
       "</table>\n",
       "</div>"
      ],
      "text/plain": [
       "     Ndex     Pokémon First Type Second Type\n",
       "87  #0984  Great Tusk      Terra       Lotta"
      ]
     },
     "metadata": {},
     "output_type": "display_data"
    },
    {
     "data": {
      "text/plain": [
       "['Ghiaccio', 'Spettro', 'Volante', 'Erba', 'Acciaio']"
      ]
     },
     "metadata": {},
     "output_type": "display_data"
    },
    {
     "data": {
      "text/html": [
       "<div>\n",
       "<style scoped>\n",
       "    .dataframe tbody tr th:only-of-type {\n",
       "        vertical-align: middle;\n",
       "    }\n",
       "\n",
       "    .dataframe tbody tr th {\n",
       "        vertical-align: top;\n",
       "    }\n",
       "\n",
       "    .dataframe thead th {\n",
       "        text-align: right;\n",
       "    }\n",
       "</style>\n",
       "<table border=\"1\" class=\"dataframe\">\n",
       "  <thead>\n",
       "    <tr style=\"text-align: right;\">\n",
       "      <th></th>\n",
       "      <th>Ndex</th>\n",
       "      <th>Pokémon</th>\n",
       "      <th>First Type</th>\n",
       "      <th>Second Type</th>\n",
       "    </tr>\n",
       "  </thead>\n",
       "  <tbody>\n",
       "    <tr>\n",
       "      <th>98</th>\n",
       "      <td>#0478</td>\n",
       "      <td>Froslass</td>\n",
       "      <td>Ghiaccio</td>\n",
       "      <td>Spettro</td>\n",
       "    </tr>\n",
       "  </tbody>\n",
       "</table>\n",
       "</div>"
      ],
      "text/plain": [
       "     Ndex   Pokémon First Type Second Type\n",
       "98  #0478  Froslass   Ghiaccio     Spettro"
      ]
     },
     "metadata": {},
     "output_type": "display_data"
    },
    {
     "data": {
      "text/html": [
       "<div>\n",
       "<style scoped>\n",
       "    .dataframe tbody tr th:only-of-type {\n",
       "        vertical-align: middle;\n",
       "    }\n",
       "\n",
       "    .dataframe tbody tr th {\n",
       "        vertical-align: top;\n",
       "    }\n",
       "\n",
       "    .dataframe thead th {\n",
       "        text-align: right;\n",
       "    }\n",
       "</style>\n",
       "<table border=\"1\" class=\"dataframe\">\n",
       "  <thead>\n",
       "    <tr style=\"text-align: right;\">\n",
       "      <th></th>\n",
       "      <th>Ndex</th>\n",
       "      <th>Pokémon</th>\n",
       "      <th>First Type</th>\n",
       "      <th>Second Type</th>\n",
       "    </tr>\n",
       "  </thead>\n",
       "  <tbody>\n",
       "    <tr>\n",
       "      <th>87</th>\n",
       "      <td>#0984</td>\n",
       "      <td>Great Tusk</td>\n",
       "      <td>Terra</td>\n",
       "      <td>Lotta</td>\n",
       "    </tr>\n",
       "    <tr>\n",
       "      <th>98</th>\n",
       "      <td>#0478</td>\n",
       "      <td>Froslass</td>\n",
       "      <td>Ghiaccio</td>\n",
       "      <td>Spettro</td>\n",
       "    </tr>\n",
       "  </tbody>\n",
       "</table>\n",
       "</div>"
      ],
      "text/plain": [
       "     Ndex     Pokémon First Type Second Type\n",
       "87  #0984  Great Tusk      Terra       Lotta\n",
       "98  #0478    Froslass   Ghiaccio     Spettro"
      ]
     },
     "metadata": {},
     "output_type": "display_data"
    },
    {
     "data": {
      "text/plain": [
       "['Volante', 'Erba', 'Acciaio']"
      ]
     },
     "metadata": {},
     "output_type": "display_data"
    },
    {
     "data": {
      "text/html": [
       "<div>\n",
       "<style scoped>\n",
       "    .dataframe tbody tr th:only-of-type {\n",
       "        vertical-align: middle;\n",
       "    }\n",
       "\n",
       "    .dataframe tbody tr th {\n",
       "        vertical-align: top;\n",
       "    }\n",
       "\n",
       "    .dataframe thead th {\n",
       "        text-align: right;\n",
       "    }\n",
       "</style>\n",
       "<table border=\"1\" class=\"dataframe\">\n",
       "  <thead>\n",
       "    <tr style=\"text-align: right;\">\n",
       "      <th></th>\n",
       "      <th>Ndex</th>\n",
       "      <th>Pokémon</th>\n",
       "      <th>First Type</th>\n",
       "      <th>Second Type</th>\n",
       "    </tr>\n",
       "  </thead>\n",
       "  <tbody>\n",
       "    <tr>\n",
       "      <th>120</th>\n",
       "      <td>#0597</td>\n",
       "      <td>Ferroseed</td>\n",
       "      <td>Erba</td>\n",
       "      <td>Acciaio</td>\n",
       "    </tr>\n",
       "    <tr>\n",
       "      <th>121</th>\n",
       "      <td>#0598</td>\n",
       "      <td>Ferrothorn</td>\n",
       "      <td>Erba</td>\n",
       "      <td>Acciaio</td>\n",
       "    </tr>\n",
       "    <tr>\n",
       "      <th>85</th>\n",
       "      <td>#0798</td>\n",
       "      <td>Kartana</td>\n",
       "      <td>Erba</td>\n",
       "      <td>Acciaio</td>\n",
       "    </tr>\n",
       "  </tbody>\n",
       "</table>\n",
       "</div>"
      ],
      "text/plain": [
       "      Ndex     Pokémon First Type Second Type\n",
       "120  #0597   Ferroseed       Erba     Acciaio\n",
       "121  #0598  Ferrothorn       Erba     Acciaio\n",
       "85   #0798     Kartana       Erba     Acciaio"
      ]
     },
     "metadata": {},
     "output_type": "display_data"
    },
    {
     "data": {
      "text/html": [
       "<div>\n",
       "<style scoped>\n",
       "    .dataframe tbody tr th:only-of-type {\n",
       "        vertical-align: middle;\n",
       "    }\n",
       "\n",
       "    .dataframe tbody tr th {\n",
       "        vertical-align: top;\n",
       "    }\n",
       "\n",
       "    .dataframe thead th {\n",
       "        text-align: right;\n",
       "    }\n",
       "</style>\n",
       "<table border=\"1\" class=\"dataframe\">\n",
       "  <thead>\n",
       "    <tr style=\"text-align: right;\">\n",
       "      <th></th>\n",
       "      <th>Ndex</th>\n",
       "      <th>Pokémon</th>\n",
       "      <th>First Type</th>\n",
       "      <th>Second Type</th>\n",
       "    </tr>\n",
       "  </thead>\n",
       "  <tbody>\n",
       "    <tr>\n",
       "      <th>87</th>\n",
       "      <td>#0984</td>\n",
       "      <td>Great Tusk</td>\n",
       "      <td>Terra</td>\n",
       "      <td>Lotta</td>\n",
       "    </tr>\n",
       "    <tr>\n",
       "      <th>98</th>\n",
       "      <td>#0478</td>\n",
       "      <td>Froslass</td>\n",
       "      <td>Ghiaccio</td>\n",
       "      <td>Spettro</td>\n",
       "    </tr>\n",
       "    <tr>\n",
       "      <th>121</th>\n",
       "      <td>#0598</td>\n",
       "      <td>Ferrothorn</td>\n",
       "      <td>Erba</td>\n",
       "      <td>Acciaio</td>\n",
       "    </tr>\n",
       "  </tbody>\n",
       "</table>\n",
       "</div>"
      ],
      "text/plain": [
       "      Ndex     Pokémon First Type Second Type\n",
       "87   #0984  Great Tusk      Terra       Lotta\n",
       "98   #0478    Froslass   Ghiaccio     Spettro\n",
       "121  #0598  Ferrothorn       Erba     Acciaio"
      ]
     },
     "metadata": {},
     "output_type": "display_data"
    },
    {
     "data": {
      "text/plain": [
       "['Volante']"
      ]
     },
     "metadata": {},
     "output_type": "display_data"
    },
    {
     "data": {
      "text/html": [
       "<div>\n",
       "<style scoped>\n",
       "    .dataframe tbody tr th:only-of-type {\n",
       "        vertical-align: middle;\n",
       "    }\n",
       "\n",
       "    .dataframe tbody tr th {\n",
       "        vertical-align: top;\n",
       "    }\n",
       "\n",
       "    .dataframe thead th {\n",
       "        text-align: right;\n",
       "    }\n",
       "</style>\n",
       "<table border=\"1\" class=\"dataframe\">\n",
       "  <thead>\n",
       "    <tr style=\"text-align: right;\">\n",
       "      <th></th>\n",
       "      <th>Ndex</th>\n",
       "      <th>Pokémon</th>\n",
       "      <th>First Type</th>\n",
       "      <th>Second Type</th>\n",
       "    </tr>\n",
       "  </thead>\n",
       "  <tbody>\n",
       "    <tr>\n",
       "      <th>81</th>\n",
       "      <td>#0227</td>\n",
       "      <td>Skarmory</td>\n",
       "      <td>Acciaio</td>\n",
       "      <td>Volante</td>\n",
       "    </tr>\n",
       "    <tr>\n",
       "      <th>84</th>\n",
       "      <td>#0797</td>\n",
       "      <td>Celesteela</td>\n",
       "      <td>Acciaio</td>\n",
       "      <td>Volante</td>\n",
       "    </tr>\n",
       "    <tr>\n",
       "      <th>13</th>\n",
       "      <td>#0823</td>\n",
       "      <td>Corviknight</td>\n",
       "      <td>Volante</td>\n",
       "      <td>Acciaio</td>\n",
       "    </tr>\n",
       "  </tbody>\n",
       "</table>\n",
       "</div>"
      ],
      "text/plain": [
       "     Ndex      Pokémon First Type Second Type\n",
       "81  #0227     Skarmory    Acciaio     Volante\n",
       "84  #0797   Celesteela    Acciaio     Volante\n",
       "13  #0823  Corviknight    Volante     Acciaio"
      ]
     },
     "metadata": {},
     "output_type": "display_data"
    },
    {
     "data": {
      "text/html": [
       "<div>\n",
       "<style scoped>\n",
       "    .dataframe tbody tr th:only-of-type {\n",
       "        vertical-align: middle;\n",
       "    }\n",
       "\n",
       "    .dataframe tbody tr th {\n",
       "        vertical-align: top;\n",
       "    }\n",
       "\n",
       "    .dataframe thead th {\n",
       "        text-align: right;\n",
       "    }\n",
       "</style>\n",
       "<table border=\"1\" class=\"dataframe\">\n",
       "  <thead>\n",
       "    <tr style=\"text-align: right;\">\n",
       "      <th></th>\n",
       "      <th>Ndex</th>\n",
       "      <th>Pokémon</th>\n",
       "      <th>First Type</th>\n",
       "      <th>Second Type</th>\n",
       "    </tr>\n",
       "  </thead>\n",
       "  <tbody>\n",
       "    <tr>\n",
       "      <th>87</th>\n",
       "      <td>#0984</td>\n",
       "      <td>Great Tusk</td>\n",
       "      <td>Terra</td>\n",
       "      <td>Lotta</td>\n",
       "    </tr>\n",
       "    <tr>\n",
       "      <th>98</th>\n",
       "      <td>#0478</td>\n",
       "      <td>Froslass</td>\n",
       "      <td>Ghiaccio</td>\n",
       "      <td>Spettro</td>\n",
       "    </tr>\n",
       "    <tr>\n",
       "      <th>121</th>\n",
       "      <td>#0598</td>\n",
       "      <td>Ferrothorn</td>\n",
       "      <td>Erba</td>\n",
       "      <td>Acciaio</td>\n",
       "    </tr>\n",
       "    <tr>\n",
       "      <th>81</th>\n",
       "      <td>#0227</td>\n",
       "      <td>Skarmory</td>\n",
       "      <td>Acciaio</td>\n",
       "      <td>Volante</td>\n",
       "    </tr>\n",
       "  </tbody>\n",
       "</table>\n",
       "</div>"
      ],
      "text/plain": [
       "      Ndex     Pokémon First Type Second Type\n",
       "87   #0984  Great Tusk      Terra       Lotta\n",
       "98   #0478    Froslass   Ghiaccio     Spettro\n",
       "121  #0598  Ferrothorn       Erba     Acciaio\n",
       "81   #0227    Skarmory    Acciaio     Volante"
      ]
     },
     "metadata": {},
     "output_type": "display_data"
    }
   ],
   "source": [
    "coverage = calculate_coverage([],False)\n",
    "squad = interactive_choose_your_pokemon(coverage)"
   ]
  },
  {
   "cell_type": "markdown",
   "id": "a357355c",
   "metadata": {},
   "source": [
    "## Risultati Del Testing\n",
    "\n",
    "Dal testing si riscontra ciò che ci aspettavamo con l'unico problema nella rappresentazione a schermo dei dataframe che essendo molto grandi non possono essere consultati comodamente"
   ]
  },
  {
   "cell_type": "markdown",
   "id": "5f83cacf",
   "metadata": {},
   "source": [
    "## Combinazione dei metodi Esplorati\n",
    "\n",
    "Lo step successivo consiste nell'unire il calcolo della copertura con la creazione della squadra, in maniera interattiva, perchè come già visto in maniera algoritmica questo già avviene; anche se andrebbe perfezionato"
   ]
  },
  {
   "cell_type": "code",
   "execution_count": 134,
   "id": "6873d599",
   "metadata": {},
   "outputs": [],
   "source": [
    "def interactive_squad_building():\n",
    "    #inizializzazione delle variabili\n",
    "    squad_list = [] \n",
    "    squad = pd.DataFrame()\n",
    "    national_dex = build_extensive_pokemon_df(pokemon_types.keys())\n",
    "\n",
    "    while len(covered_types(squad_list)) <18 and (len(squad) <6):\n",
    "        #display tipi consigliati\n",
    "        find_best_types(squad_list)\n",
    "        #scelta tipo\n",
    "        choices = interactive_type_choice()\n",
    "        #scelta pokemon\n",
    "        chosen = interactive_choose_pokemon(national_dex,choices)\n",
    "        #applicazione della scelta\n",
    "        [national_dex,squad,*rest] = apply_choice(national_dex,squad,chosen,choices,[])\n",
    "        #inserimento tipo in lista, solo se il tipo è non nullo\n",
    "        squad_list = [el for el in squad['First Type'].tolist() + squad['Second Type'].tolist() if pd.notna(el)]\n",
    "    #uscito dal ciclo controllo se batto tutti i tipi\n",
    "    if len(covered_types(squad_list))<18:print(f'Purtroppo la tua squadra non riesce a battere tutti i tipi')\n",
    "    else: print(f'La tua squadra batte tutti i tipi, utilizzando {len(squad)} pokémon')\n",
    "    return squad"
   ]
  },
  {
   "cell_type": "markdown",
   "id": "9cee837b",
   "metadata": {},
   "source": [
    "## Cella di Test\n"
   ]
  },
  {
   "cell_type": "code",
   "execution_count": 135,
   "id": "670ce36f",
   "metadata": {},
   "outputs": [
    {
     "name": "stdout",
     "output_type": "stream",
     "text": [
      "La squadra ha bisogno di questi tipi: {'Lotta', 'Terra'}\n"
     ]
    },
    {
     "data": {
      "text/html": [
       "<div>\n",
       "<style scoped>\n",
       "    .dataframe tbody tr th:only-of-type {\n",
       "        vertical-align: middle;\n",
       "    }\n",
       "\n",
       "    .dataframe tbody tr th {\n",
       "        vertical-align: top;\n",
       "    }\n",
       "\n",
       "    .dataframe thead th {\n",
       "        text-align: right;\n",
       "    }\n",
       "</style>\n",
       "<table border=\"1\" class=\"dataframe\">\n",
       "  <thead>\n",
       "    <tr style=\"text-align: right;\">\n",
       "      <th></th>\n",
       "      <th>Ndex</th>\n",
       "      <th>Pokémon</th>\n",
       "      <th>First Type</th>\n",
       "      <th>Second Type</th>\n",
       "    </tr>\n",
       "  </thead>\n",
       "  <tbody>\n",
       "    <tr>\n",
       "      <th>87</th>\n",
       "      <td>#0984</td>\n",
       "      <td>Great Tusk</td>\n",
       "      <td>Terra</td>\n",
       "      <td>Lotta</td>\n",
       "    </tr>\n",
       "  </tbody>\n",
       "</table>\n",
       "</div>"
      ],
      "text/plain": [
       "     Ndex     Pokémon First Type Second Type\n",
       "87  #0984  Great Tusk      Terra       Lotta"
      ]
     },
     "metadata": {},
     "output_type": "display_data"
    },
    {
     "name": "stdout",
     "output_type": "stream",
     "text": [
      "La squadra ha bisogno di questi tipi: {'Ghiaccio'}\n"
     ]
    },
    {
     "data": {
      "text/html": [
       "<div>\n",
       "<style scoped>\n",
       "    .dataframe tbody tr th:only-of-type {\n",
       "        vertical-align: middle;\n",
       "    }\n",
       "\n",
       "    .dataframe tbody tr th {\n",
       "        vertical-align: top;\n",
       "    }\n",
       "\n",
       "    .dataframe thead th {\n",
       "        text-align: right;\n",
       "    }\n",
       "</style>\n",
       "<table border=\"1\" class=\"dataframe\">\n",
       "  <thead>\n",
       "    <tr style=\"text-align: right;\">\n",
       "      <th></th>\n",
       "      <th>Ndex</th>\n",
       "      <th>Pokémon</th>\n",
       "      <th>First Type</th>\n",
       "      <th>Second Type</th>\n",
       "    </tr>\n",
       "  </thead>\n",
       "  <tbody>\n",
       "    <tr>\n",
       "      <th>69</th>\n",
       "      <td>#0555</td>\n",
       "      <td>DarmanitanZen Mode(Galarian Form)</td>\n",
       "      <td>Ghiaccio</td>\n",
       "      <td>Fuoco</td>\n",
       "    </tr>\n",
       "    <tr>\n",
       "      <th>108</th>\n",
       "      <td>#0087</td>\n",
       "      <td>Dewgong</td>\n",
       "      <td>Acqua</td>\n",
       "      <td>Ghiaccio</td>\n",
       "    </tr>\n",
       "    <tr>\n",
       "      <th>114</th>\n",
       "      <td>#0091</td>\n",
       "      <td>Cloyster</td>\n",
       "      <td>Acqua</td>\n",
       "      <td>Ghiaccio</td>\n",
       "    </tr>\n",
       "    <tr>\n",
       "      <th>163</th>\n",
       "      <td>#0131</td>\n",
       "      <td>Lapras</td>\n",
       "      <td>Acqua</td>\n",
       "      <td>Ghiaccio</td>\n",
       "    </tr>\n",
       "    <tr>\n",
       "      <th>116</th>\n",
       "      <td>#0363</td>\n",
       "      <td>Spheal</td>\n",
       "      <td>Ghiaccio</td>\n",
       "      <td>Acqua</td>\n",
       "    </tr>\n",
       "    <tr>\n",
       "      <th>...</th>\n",
       "      <td>...</td>\n",
       "      <td>...</td>\n",
       "      <td>...</td>\n",
       "      <td>...</td>\n",
       "    </tr>\n",
       "    <tr>\n",
       "      <th>75</th>\n",
       "      <td>#0975</td>\n",
       "      <td>Cetitan</td>\n",
       "      <td>Ghiaccio</td>\n",
       "      <td>None</td>\n",
       "    </tr>\n",
       "    <tr>\n",
       "      <th>99</th>\n",
       "      <td>#0996</td>\n",
       "      <td>Frigibax</td>\n",
       "      <td>Drago</td>\n",
       "      <td>Ghiaccio</td>\n",
       "    </tr>\n",
       "    <tr>\n",
       "      <th>100</th>\n",
       "      <td>#0997</td>\n",
       "      <td>Arctibax</td>\n",
       "      <td>Drago</td>\n",
       "      <td>Ghiaccio</td>\n",
       "    </tr>\n",
       "    <tr>\n",
       "      <th>101</th>\n",
       "      <td>#0998</td>\n",
       "      <td>Baxcalibur</td>\n",
       "      <td>Drago</td>\n",
       "      <td>Ghiaccio</td>\n",
       "    </tr>\n",
       "    <tr>\n",
       "      <th>106</th>\n",
       "      <td>#1002</td>\n",
       "      <td>Chien-Pao</td>\n",
       "      <td>Buio</td>\n",
       "      <td>Ghiaccio</td>\n",
       "    </tr>\n",
       "  </tbody>\n",
       "</table>\n",
       "<p>63 rows × 4 columns</p>\n",
       "</div>"
      ],
      "text/plain": [
       "      Ndex                            Pokémon First Type Second Type\n",
       "69   #0555  DarmanitanZen Mode(Galarian Form)   Ghiaccio       Fuoco\n",
       "108  #0087                            Dewgong      Acqua    Ghiaccio\n",
       "114  #0091                           Cloyster      Acqua    Ghiaccio\n",
       "163  #0131                             Lapras      Acqua    Ghiaccio\n",
       "116  #0363                             Spheal   Ghiaccio       Acqua\n",
       "..     ...                                ...        ...         ...\n",
       "75   #0975                            Cetitan   Ghiaccio        None\n",
       "99   #0996                           Frigibax      Drago    Ghiaccio\n",
       "100  #0997                           Arctibax      Drago    Ghiaccio\n",
       "101  #0998                         Baxcalibur      Drago    Ghiaccio\n",
       "106  #1002                          Chien-Pao       Buio    Ghiaccio\n",
       "\n",
       "[63 rows x 4 columns]"
      ]
     },
     "metadata": {},
     "output_type": "display_data"
    },
    {
     "name": "stdout",
     "output_type": "stream",
     "text": [
      "La squadra ha bisogno di questi tipi: {'Volante'}\n",
      "Togekiss non è un tipo Pokémon valido\n"
     ]
    },
    {
     "data": {
      "text/html": [
       "<div>\n",
       "<style scoped>\n",
       "    .dataframe tbody tr th:only-of-type {\n",
       "        vertical-align: middle;\n",
       "    }\n",
       "\n",
       "    .dataframe tbody tr th {\n",
       "        vertical-align: top;\n",
       "    }\n",
       "\n",
       "    .dataframe thead th {\n",
       "        text-align: right;\n",
       "    }\n",
       "</style>\n",
       "<table border=\"1\" class=\"dataframe\">\n",
       "  <thead>\n",
       "    <tr style=\"text-align: right;\">\n",
       "      <th></th>\n",
       "      <th>Ndex</th>\n",
       "      <th>Pokémon</th>\n",
       "      <th>First Type</th>\n",
       "      <th>Second Type</th>\n",
       "    </tr>\n",
       "  </thead>\n",
       "  <tbody>\n",
       "    <tr>\n",
       "      <th>15</th>\n",
       "      <td>#0016</td>\n",
       "      <td>Pidgey</td>\n",
       "      <td>Normale</td>\n",
       "      <td>Volante</td>\n",
       "    </tr>\n",
       "    <tr>\n",
       "      <th>16</th>\n",
       "      <td>#0017</td>\n",
       "      <td>Pidgeotto</td>\n",
       "      <td>Normale</td>\n",
       "      <td>Volante</td>\n",
       "    </tr>\n",
       "    <tr>\n",
       "      <th>17</th>\n",
       "      <td>#0018</td>\n",
       "      <td>Pidgeot</td>\n",
       "      <td>Normale</td>\n",
       "      <td>Volante</td>\n",
       "    </tr>\n",
       "    <tr>\n",
       "      <th>22</th>\n",
       "      <td>#0021</td>\n",
       "      <td>Spearow</td>\n",
       "      <td>Normale</td>\n",
       "      <td>Volante</td>\n",
       "    </tr>\n",
       "    <tr>\n",
       "      <th>23</th>\n",
       "      <td>#0022</td>\n",
       "      <td>Fearow</td>\n",
       "      <td>Normale</td>\n",
       "      <td>Volante</td>\n",
       "    </tr>\n",
       "    <tr>\n",
       "      <th>...</th>\n",
       "      <td>...</td>\n",
       "      <td>...</td>\n",
       "      <td>...</td>\n",
       "      <td>...</td>\n",
       "    </tr>\n",
       "    <tr>\n",
       "      <th>13</th>\n",
       "      <td>#0823</td>\n",
       "      <td>Corviknight</td>\n",
       "      <td>Volante</td>\n",
       "      <td>Acciaio</td>\n",
       "    </tr>\n",
       "    <tr>\n",
       "      <th>108</th>\n",
       "      <td>#0905</td>\n",
       "      <td>EnamorusIncarnate Forme</td>\n",
       "      <td>Folletto</td>\n",
       "      <td>Volante</td>\n",
       "    </tr>\n",
       "    <tr>\n",
       "      <th>109</th>\n",
       "      <td>#0905</td>\n",
       "      <td>EnamorusTherian Forme</td>\n",
       "      <td>Folletto</td>\n",
       "      <td>Volante</td>\n",
       "    </tr>\n",
       "    <tr>\n",
       "      <th>61</th>\n",
       "      <td>#0962</td>\n",
       "      <td>Bombirdier</td>\n",
       "      <td>Volante</td>\n",
       "      <td>Buio</td>\n",
       "    </tr>\n",
       "    <tr>\n",
       "      <th>96</th>\n",
       "      <td>#0993</td>\n",
       "      <td>Iron Jugulis</td>\n",
       "      <td>Buio</td>\n",
       "      <td>Volante</td>\n",
       "    </tr>\n",
       "  </tbody>\n",
       "</table>\n",
       "<p>128 rows × 4 columns</p>\n",
       "</div>"
      ],
      "text/plain": [
       "      Ndex                  Pokémon First Type Second Type\n",
       "15   #0016                   Pidgey    Normale     Volante\n",
       "16   #0017                Pidgeotto    Normale     Volante\n",
       "17   #0018                  Pidgeot    Normale     Volante\n",
       "22   #0021                  Spearow    Normale     Volante\n",
       "23   #0022                   Fearow    Normale     Volante\n",
       "..     ...                      ...        ...         ...\n",
       "13   #0823              Corviknight    Volante     Acciaio\n",
       "108  #0905  EnamorusIncarnate Forme   Folletto     Volante\n",
       "109  #0905    EnamorusTherian Forme   Folletto     Volante\n",
       "61   #0962               Bombirdier    Volante        Buio\n",
       "96   #0993             Iron Jugulis       Buio     Volante\n",
       "\n",
       "[128 rows x 4 columns]"
      ]
     },
     "metadata": {},
     "output_type": "display_data"
    },
    {
     "name": "stdout",
     "output_type": "stream",
     "text": [
      "La squadra ha bisogno di questi tipi: {'Erba', 'Acciaio', 'Veleno', 'Elettro'}\n"
     ]
    },
    {
     "data": {
      "text/html": [
       "<div>\n",
       "<style scoped>\n",
       "    .dataframe tbody tr th:only-of-type {\n",
       "        vertical-align: middle;\n",
       "    }\n",
       "\n",
       "    .dataframe tbody tr th {\n",
       "        vertical-align: top;\n",
       "    }\n",
       "\n",
       "    .dataframe thead th {\n",
       "        text-align: right;\n",
       "    }\n",
       "</style>\n",
       "<table border=\"1\" class=\"dataframe\">\n",
       "  <thead>\n",
       "    <tr style=\"text-align: right;\">\n",
       "      <th></th>\n",
       "      <th>Ndex</th>\n",
       "      <th>Pokémon</th>\n",
       "      <th>First Type</th>\n",
       "      <th>Second Type</th>\n",
       "    </tr>\n",
       "  </thead>\n",
       "  <tbody>\n",
       "    <tr>\n",
       "      <th>120</th>\n",
       "      <td>#0597</td>\n",
       "      <td>Ferroseed</td>\n",
       "      <td>Erba</td>\n",
       "      <td>Acciaio</td>\n",
       "    </tr>\n",
       "    <tr>\n",
       "      <th>121</th>\n",
       "      <td>#0598</td>\n",
       "      <td>Ferrothorn</td>\n",
       "      <td>Erba</td>\n",
       "      <td>Acciaio</td>\n",
       "    </tr>\n",
       "    <tr>\n",
       "      <th>85</th>\n",
       "      <td>#0798</td>\n",
       "      <td>Kartana</td>\n",
       "      <td>Erba</td>\n",
       "      <td>Acciaio</td>\n",
       "    </tr>\n",
       "  </tbody>\n",
       "</table>\n",
       "</div>"
      ],
      "text/plain": [
       "      Ndex     Pokémon First Type Second Type\n",
       "120  #0597   Ferroseed       Erba     Acciaio\n",
       "121  #0598  Ferrothorn       Erba     Acciaio\n",
       "85   #0798     Kartana       Erba     Acciaio"
      ]
     },
     "metadata": {},
     "output_type": "display_data"
    },
    {
     "name": "stdout",
     "output_type": "stream",
     "text": [
      "La tua squadra batte tutti i tipi, utilizzando 4 pokémon\n"
     ]
    }
   ],
   "source": [
    "squad = interactive_squad_building()"
   ]
  },
  {
   "cell_type": "markdown",
   "id": "5db14925",
   "metadata": {},
   "source": [
    "## Conclusioni\n",
    "\n",
    "Finalmente siamo riusciti a raggiungere un risultato soddisfacente,adesso che abbiamo un modo per generare squadre di pokemon \"Complete\" possiamo concentrarci sull'analisi delle debolezze della squadra per fare in modo che abbia meno match-up sfavorevoli; Ma questo è un'obbiettivo per un'altro giorno..."
   ]
  }
 ],
 "metadata": {
  "kernelspec": {
   "display_name": "venv (3.13.2)",
   "language": "python",
   "name": "python3"
  },
  "language_info": {
   "codemirror_mode": {
    "name": "ipython",
    "version": 3
   },
   "file_extension": ".py",
   "mimetype": "text/x-python",
   "name": "python",
   "nbconvert_exporter": "python",
   "pygments_lexer": "ipython3",
   "version": "3.13.2"
  }
 },
 "nbformat": 4,
 "nbformat_minor": 5
}
