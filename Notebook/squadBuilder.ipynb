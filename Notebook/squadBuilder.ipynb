{
 "cells": [
  {
   "cell_type": "markdown",
   "id": "6af53a20",
   "metadata": {},
   "source": [
    "<center>\n",
    "\n",
    "# SquadBuilder\n",
    "Questo notebook ti guiderà nell'individuazione dei tipi di pokemon necessari per batterli tutti!"
   ]
  },
  {
   "cell_type": "markdown",
   "id": "b441d135",
   "metadata": {},
   "source": [
    "In questo Notebook andremo a creare una squadra che riesce a battere tutti i tipi pokemon. \n",
    "Per farlo è necessario definire cosa sono i Pokemon e di conseguenza cosa è un Tipo associato ai pokemon"
   ]
  },
  {
   "cell_type": "code",
   "execution_count": 66,
   "id": "0668d437",
   "metadata": {},
   "outputs": [],
   "source": [
    "pokemon_types = {\n",
    "    \"Normale\": {\n",
    "        \"debolezze\": [\"Lotta\"],\n",
    "        \"resistenze\": [],\n",
    "        \"immunità\": [\"Spettro\"],\n",
    "        \"superefficacie\": []\n",
    "    },\n",
    "    \"Fuoco\": {\n",
    "        \"debolezze\": [\"Acqua\", \"Terra\", \"Roccia\"],\n",
    "        \"resistenze\": [\"Fuoco\", \"Erba\", \"Ghiaccio\", \"Coleottero\", \"Acciaio\", \"Folletto\"],\n",
    "        \"immunità\": [],\n",
    "        \"superefficacie\": [\"Erba\", \"Coleottero\", \"Ghiaccio\", \"Acciaio\"]\n",
    "    },\n",
    "    \"Acqua\": {\n",
    "        \"debolezze\": [\"Elettro\", \"Erba\"],\n",
    "        \"resistenze\": [\"Fuoco\", \"Acqua\", \"Acciaio\", \"Ghiaccio\"],\n",
    "        \"immunità\": [],\n",
    "        \"superefficacie\": [\"Fuoco\", \"Terra\", \"Roccia\"]\n",
    "    },\n",
    "    \"Erba\": {\n",
    "        \"debolezze\": [\"Fuoco\", \"Ghiaccio\", \"Veleno\", \"Volante\", \"Coleottero\"],\n",
    "        \"resistenze\": [\"Acqua\", \"Erba\", \"Terra\", \"Elettro\"],\n",
    "        \"immunità\": [],\n",
    "        \"superefficacie\": [\"Acqua\", \"Terra\", \"Roccia\"]\n",
    "    },\n",
    "    \"Elettro\": {\n",
    "        \"debolezze\": [\"Terra\"],\n",
    "        \"resistenze\": [\"Acciaio\", \"Elettro\", \"Volante\"],\n",
    "        \"immunità\": [],\n",
    "        \"superefficacie\": [\"Acqua\", \"Volante\"]\n",
    "    },\n",
    "    \"Ghiaccio\": {\n",
    "        \"debolezze\": [\"Fuoco\", \"Lotta\", \"Roccia\", \"Acciaio\"],\n",
    "        \"resistenze\": [\"Ghiaccio\"],\n",
    "        \"immunità\": [],\n",
    "        \"superefficacie\": [\"Erba\", \"Terra\", \"Volante\", \"Drago\"]\n",
    "    },\n",
    "    \"Lotta\": {\n",
    "        \"debolezze\": [\"Volante\", \"Psico\", \"Folletto\"],\n",
    "        \"resistenze\": [\"Roccia\", \"Coleottero\", \"Buio\"],\n",
    "        \"immunità\": [],\n",
    "        \"superefficacie\": [\"Normale\", \"Roccia\", \"Acciaio\", \"Ghiaccio\", \"Buio\"]\n",
    "    },\n",
    "    \"Veleno\": {\n",
    "        \"debolezze\": [\"Psico\", \"Terra\"],\n",
    "        \"resistenze\": [\"Erba\", \"Lotta\", \"Veleno\", \"Coleottero\", \"Folletto\"],\n",
    "        \"immunità\": [],\n",
    "        \"superefficacie\": [\"Erba\", \"Folletto\"]\n",
    "    },\n",
    "    \"Terra\": {\n",
    "        \"debolezze\": [\"Acqua\", \"Erba\", \"Ghiaccio\"],\n",
    "        \"resistenze\": [\"Veleno\", \"Roccia\"],\n",
    "        \"immunità\": [\"Elettro\"],\n",
    "        \"superefficacie\": [\"Fuoco\", \"Elettro\", \"Veleno\", \"Roccia\", \"Acciaio\"]\n",
    "    },\n",
    "    \"Volante\": {\n",
    "        \"debolezze\": [\"Elettro\", \"Ghiaccio\", \"Roccia\"],\n",
    "        \"resistenze\": [\"Erba\", \"Lotta\", \"Coleottero\"],\n",
    "        \"immunità\": [\"Terra\"],\n",
    "        \"superefficacie\": [\"Erba\", \"Lotta\", \"Coleottero\"]\n",
    "    },\n",
    "    \"Psico\": {\n",
    "        \"debolezze\": [\"Buio\", \"Spettro\", \"Coleottero\"],\n",
    "        \"resistenze\": [\"Lotta\", \"Psico\"],\n",
    "        \"immunità\": [],\n",
    "        \"superefficacie\": [\"Lotta\", \"Veleno\"]\n",
    "    },\n",
    "    \"Coleottero\": {\n",
    "        \"debolezze\": [\"Fuoco\", \"Volante\", \"Roccia\"],\n",
    "        \"resistenze\": [\"Erba\", \"Lotta\", \"Terra\"],\n",
    "        \"immunità\": [],\n",
    "        \"superefficacie\": [\"Erba\", \"Psico\", \"Buio\"]\n",
    "    },\n",
    "    \"Roccia\": {\n",
    "        \"debolezze\": [\"Acqua\", \"Erba\", \"Lotta\", \"Acciaio\", \"Terra\"],\n",
    "        \"resistenze\": [\"Normale\", \"Fuoco\", \"Veleno\", \"Volante\"],\n",
    "        \"immunità\": [],\n",
    "        \"superefficacie\": [\"Fuoco\", \"Ghiaccio\", \"Volante\", \"Coleottero\"]\n",
    "    },\n",
    "    \"Spettro\": {\n",
    "        \"debolezze\": [\"Spettro\", \"Buio\"],\n",
    "        \"resistenze\": [\"Veleno\", \"Coleottero\"],\n",
    "        \"immunità\": [\"Normale\", \"Lotta\"],\n",
    "        \"superefficacie\": [\"Psico\", \"Spettro\"]\n",
    "    },\n",
    "    \"Drago\": {\n",
    "        \"debolezze\": [\"Ghiaccio\", \"Drago\", \"Folletto\"],\n",
    "        \"resistenze\": [\"Fuoco\", \"Acqua\", \"Erba\", \"Elettro\"],\n",
    "        \"immunità\": [],\n",
    "        \"superefficacie\": [\"Drago\"]\n",
    "    },\n",
    "    \"Buio\": {\n",
    "        \"debolezze\": [\"Lotta\", \"Coleottero\", \"Folletto\"],\n",
    "        \"resistenze\": [\"Spettro\", \"Buio\"],\n",
    "        \"immunità\": [\"Psico\"],\n",
    "        \"superefficacie\": [\"Psico\", \"Spettro\"]\n",
    "    },\n",
    "    \"Acciaio\": {\n",
    "        \"debolezze\": [\"Fuoco\", \"Lotta\", \"Terra\"],\n",
    "        \"resistenze\": [\"Normale\", \"Volante\", \"Roccia\", \"Coleottero\", \"Acciaio\", \"Erba\", \"Psico\", \"Ghiaccio\", \"Drago\", \"Folletto\"],\n",
    "        \"immunità\": [\"Veleno\"],\n",
    "        \"superefficacie\": [\"Ghiaccio\", \"Roccia\", \"Folletto\"]\n",
    "    },\n",
    "    \"Folletto\": {\n",
    "        \"debolezze\": [\"Acciaio\", \"Veleno\"],\n",
    "        \"resistenze\": [\"Lotta\", \"Coleottero\", \"Buio\"],\n",
    "        \"immunità\": [\"Drago\"],\n",
    "        \"superefficacie\": [\"Lotta\", \"Buio\", \"Drago\"]\n",
    "    }\n",
    "}"
   ]
  },
  {
   "cell_type": "markdown",
   "id": "b8378c2c",
   "metadata": {},
   "source": [
    "definiamo delle funzioni per controllare la bontà della nostra squadra in funzione dei tipi che vengono battuti, ed una funzione per controlare cosa rimane da battere"
   ]
  },
  {
   "cell_type": "code",
   "execution_count": 67,
   "id": "6e5b0130",
   "metadata": {},
   "outputs": [
    {
     "name": "stdout",
     "output_type": "stream",
     "text": [
      "{'Elettro', 'Roccia', 'Veleno', 'Acciaio', 'Fuoco'}\n",
      "{'Erba', 'Coleottero', 'Ghiaccio', 'Normale', 'Volante', 'Buio', 'Drago', 'Folletto', 'Psico', 'Spettro', 'Terra', 'Lotta', 'Acqua'}\n"
     ]
    }
   ],
   "source": [
    "def covered_types(squadra):\n",
    "    coverage = set(analyzed_type \n",
    "                    for analyzed_type in pokemon_types \n",
    "                    for unchecked_type in pokemon_types[analyzed_type][\"debolezze\"] \n",
    "                    for acquired in squadra  if unchecked_type == acquired)\n",
    "    return coverage\n",
    "\n",
    "def uncovered_types(squadra):\n",
    "    coverage = covered_types(squadra)\n",
    "    \n",
    "    uncovered_types = set(key for key in pokemon_types.keys())\n",
    "    \n",
    "    if len(squadra) == 0 or len(coverage)== 0 :\n",
    "        return uncovered_types\n",
    "    else:\n",
    "        return uncovered_types.difference(coverage)\n",
    "    \n",
    "print(covered_types([\"Terra\"]))\n",
    "print(uncovered_types([\"Terra\"]))\n"
   ]
  },
  {
   "cell_type": "markdown",
   "id": "a7abc65a",
   "metadata": {},
   "source": [
    "Aggiungiamo un \"peso\" ai tipi, ossia forniamo un parametro per capire quali tipi richiedono più attenzione. \n",
    "Interpreteremo il peso come numero di superefficacie che un tipo ha."
   ]
  },
  {
   "cell_type": "code",
   "execution_count": 119,
   "id": "ed7252d6",
   "metadata": {},
   "outputs": [],
   "source": [
    "def create_weights():return {pkmon_type:len(pokemon_types[pkmon_type][\"superefficacie\"]) for pkmon_type in pokemon_types}\n",
    "\n",
    "weighted_types = create_weights()\n",
    "\n",
    "def calculate_weight(super_effectivness,useless_types):\n",
    "    weight = len(super_effectivness) - sum(1 for pkmon_type in super_effectivness for useless_type in useless_types if pkmon_type == useless_type)\n",
    "    if weight == 0:\n",
    "        return -1\n",
    "    else:\n",
    "        return weight\n",
    "\n",
    "def update_wheights(types_checked):    \n",
    "    return {pkmon_type:calculate_weight(pokemon_types[pkmon_type][\"superefficacie\"],types_checked) for pkmon_type in pokemon_types}\n",
    "\n",
    "def next_weight(weighted_types):\n",
    "    max = 0\n",
    "    for type in weighted_types:\n",
    "        if weighted_types[type] > max :\n",
    "            max = weighted_types[type]\n",
    "    return max\n",
    "\n",
    "\n",
    "# t2 = update_wheights(covered_types([\"Terra\",\"Lotta\"]))\n",
    "# print(t2)\n",
    "# print(next_weight(t2))\n"
   ]
  },
  {
   "cell_type": "markdown",
   "id": "3e79b22b",
   "metadata": {},
   "source": [
    "infine dobbiamo controllare i tipi che hanno solo 1 debolezza, in quanto questi ci forzano a prendere la loro debolezza nella coverage"
   ]
  },
  {
   "cell_type": "code",
   "execution_count": null,
   "id": "8dbd9b7e",
   "metadata": {},
   "outputs": [
    {
     "name": "stdout",
     "output_type": "stream",
     "text": [
      "{'Terra', 'Lotta'}\n"
     ]
    }
   ],
   "source": [
    "mandatory_types = {pokemon_types[pkmon_type][\"debolezze\"][0] for pkmon_type in pokemon_types if len(pokemon_types[pkmon_type][\"debolezze\"]) == 1}\n",
    "def initialize_squad(squad):\n",
    "    return\n",
    "print (mandatory_types)"
   ]
  },
  {
   "cell_type": "markdown",
   "id": "3a0d5b7a",
   "metadata": {},
   "source": [
    "adesso dobbiamo controllare il prossimo tipo da prendere per continuare la copertura, per farlo sfruttiamo i pesi"
   ]
  },
  {
   "cell_type": "code",
   "execution_count": null,
   "id": "ecffde3e",
   "metadata": {},
   "outputs": [
    {
     "name": "stdout",
     "output_type": "stream",
     "text": [
      "set()\n",
      "0\n",
      "la squadra deve avere i seguenti tipi ['Terra', 'Lotta', 'Volante', 'Buio', 'Veleno', 'Roccia', 'Erba', 'Spettro', 'Ghiaccio']; per batterne 18\n"
     ]
    }
   ],
   "source": [
    "def next_types_to_add(coverage):\n",
    "\n",
    "    updated = update_wheights(coverage)\n",
    "    \n",
    "    return set(\n",
    "            pkmon_type \n",
    "            for pkmon_type in pokemon_types \n",
    "            for covered_type in coverage \n",
    "            if pkmon_type != covered_type and updated[pkmon_type] == next_weight(updated)\n",
    "    )\n",
    "\n",
    "#sarà una funzione\n",
    "propSquad = [pkmon_type for pkmon_type in mandatory_types]\n",
    "propSquad = [*propSquad,\"Volante\",\"Buio\",\"Veleno\",\"Roccia\",\"Erba\",\"Spettro\",\"Ghiaccio\"]\n",
    "coverSquad = covered_types(propSquad)\n",
    "\n",
    "print(next_types_to_add(coverSquad))\n",
    "print(len(next_types_to_add(coverSquad)))\n",
    "\n",
    "print(f'la squadra deve avere i seguenti tipi {propSquad}; per batterne {len(coverSquad)}')"
   ]
  },
  {
   "cell_type": "markdown",
   "id": "86c6fbde",
   "metadata": {},
   "source": [
    "L'obiettivo è quindi minimizzare il numero di pokemon richiesti per battere tutti i tipi, avendo 6 come numero massimo ed 1 come minimo.\n",
    "\n",
    "la squadra è quindi una lista di Pokemon, che al momento non definiamo in quanto sono una quantità mastodontica, pertanto considereremo solo il massimo numero di tipi che 6 pokemon possono avere ossia 12.\n",
    "\n",
    "Infine per avere il risultato minore possibile partiremo da una squadra vuota, ma è sempre possibile aggiungere i tipi per vedere come completare la squadra."
   ]
  },
  {
   "cell_type": "code",
   "execution_count": 71,
   "id": "5192e849",
   "metadata": {},
   "outputs": [
    {
     "name": "stdout",
     "output_type": "stream",
     "text": [
      "{'Elettro', 'Ghiaccio', 'Normale', 'Roccia', 'Veleno', 'Buio', 'Acciaio', 'Fuoco'}\n",
      "8\n",
      "{'Erba', 'Coleottero', 'Volante', 'Folletto', 'Drago', 'Psico', 'Spettro', 'Terra', 'Lotta', 'Acqua'}, rimangono da battere 10 tipi\n"
     ]
    }
   ],
   "source": [
    "squad = []\n",
    "squad = [ _ for _ in mandatory_types]\n",
    "\n",
    "print(covered_types(squad))\n",
    "print(len(covered_types(squad)))\n",
    "print(f'{uncovered_types(squad)}, rimangono da battere {len(uncovered_types(squad))} tipi')\n"
   ]
  },
  {
   "cell_type": "markdown",
   "id": "9a8260b6",
   "metadata": {},
   "source": []
  }
 ],
 "metadata": {
  "kernelspec": {
   "display_name": "venv (3.13.2)",
   "language": "python",
   "name": "python3"
  },
  "language_info": {
   "codemirror_mode": {
    "name": "ipython",
    "version": 3
   },
   "file_extension": ".py",
   "mimetype": "text/x-python",
   "name": "python",
   "nbconvert_exporter": "python",
   "pygments_lexer": "ipython3",
   "version": "3.13.2"
  }
 },
 "nbformat": 4,
 "nbformat_minor": 5
}
