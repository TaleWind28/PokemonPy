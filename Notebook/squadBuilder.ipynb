{
 "cells": [
  {
   "cell_type": "markdown",
   "id": "6af53a20",
   "metadata": {},
   "source": [
    "<center>\n",
    "\n",
    "# SquadBuilder\n",
    "Questo notebook ti guiderà nell'individuazione dei tipi di pokemon necessari per batterli tutti!"
   ]
  },
  {
   "cell_type": "markdown",
   "id": "b441d135",
   "metadata": {},
   "source": [
    "In questo Notebook andremo a creare una squadra che riesce a battere tutti i tipi pokemon. \n",
    "Per farlo è necessario definire cosa sono i Pokemon e di conseguenza cosa è un Tipo associato ai pokemon; La definizione di Pokemon avverrà in un secondo momento in quanto ci interessa soltanto il loro \"typing\" per poter determinare una squadra con la caratteristica definita sopra."
   ]
  },
  {
   "cell_type": "code",
   "execution_count": 197,
   "id": "0668d437",
   "metadata": {},
   "outputs": [],
   "source": [
    "pokemon_types = {\n",
    "    \"Normale\": {\n",
    "        \"debolezze\": [\"Lotta\"],\n",
    "        \"resistenze\": [],\n",
    "        \"immunità\": [\"Spettro\"],\n",
    "        \"superefficacie\": []\n",
    "    },\n",
    "    \"Fuoco\": {\n",
    "        \"debolezze\": [\"Acqua\", \"Terra\", \"Roccia\"],\n",
    "        \"resistenze\": [\"Fuoco\", \"Erba\", \"Ghiaccio\", \"Coleottero\", \"Acciaio\", \"Folletto\"],\n",
    "        \"immunità\": [],\n",
    "        \"superefficacie\": [\"Erba\", \"Coleottero\", \"Ghiaccio\", \"Acciaio\"]\n",
    "    },\n",
    "    \"Acqua\": {\n",
    "        \"debolezze\": [\"Elettro\", \"Erba\"],\n",
    "        \"resistenze\": [\"Fuoco\", \"Acqua\", \"Acciaio\", \"Ghiaccio\"],\n",
    "        \"immunità\": [],\n",
    "        \"superefficacie\": [\"Fuoco\", \"Terra\", \"Roccia\"]\n",
    "    },\n",
    "    \"Erba\": {\n",
    "        \"debolezze\": [\"Fuoco\", \"Ghiaccio\", \"Veleno\", \"Volante\", \"Coleottero\"],\n",
    "        \"resistenze\": [\"Acqua\", \"Erba\", \"Terra\", \"Elettro\"],\n",
    "        \"immunità\": [],\n",
    "        \"superefficacie\": [\"Acqua\", \"Terra\", \"Roccia\"]\n",
    "    },\n",
    "    \"Elettro\": {\n",
    "        \"debolezze\": [\"Terra\"],\n",
    "        \"resistenze\": [\"Acciaio\", \"Elettro\", \"Volante\"],\n",
    "        \"immunità\": [],\n",
    "        \"superefficacie\": [\"Acqua\", \"Volante\"]\n",
    "    },\n",
    "    \"Ghiaccio\": {\n",
    "        \"debolezze\": [\"Fuoco\", \"Lotta\", \"Roccia\", \"Acciaio\"],\n",
    "        \"resistenze\": [\"Ghiaccio\"],\n",
    "        \"immunità\": [],\n",
    "        \"superefficacie\": [\"Erba\", \"Terra\", \"Volante\", \"Drago\"]\n",
    "    },\n",
    "    \"Lotta\": {\n",
    "        \"debolezze\": [\"Volante\", \"Psico\", \"Folletto\"],\n",
    "        \"resistenze\": [\"Roccia\", \"Coleottero\", \"Buio\"],\n",
    "        \"immunità\": [],\n",
    "        \"superefficacie\": [\"Normale\", \"Roccia\", \"Acciaio\", \"Ghiaccio\", \"Buio\"]\n",
    "    },\n",
    "    \"Veleno\": {\n",
    "        \"debolezze\": [\"Psico\", \"Terra\"],\n",
    "        \"resistenze\": [\"Erba\", \"Lotta\", \"Veleno\", \"Coleottero\", \"Folletto\"],\n",
    "        \"immunità\": [],\n",
    "        \"superefficacie\": [\"Erba\", \"Folletto\"]\n",
    "    },\n",
    "    \"Terra\": {\n",
    "        \"debolezze\": [\"Acqua\", \"Erba\", \"Ghiaccio\"],\n",
    "        \"resistenze\": [\"Veleno\", \"Roccia\"],\n",
    "        \"immunità\": [\"Elettro\"],\n",
    "        \"superefficacie\": [\"Fuoco\", \"Elettro\", \"Veleno\", \"Roccia\", \"Acciaio\"]\n",
    "    },\n",
    "    \"Volante\": {\n",
    "        \"debolezze\": [\"Elettro\", \"Ghiaccio\", \"Roccia\"],\n",
    "        \"resistenze\": [\"Erba\", \"Lotta\", \"Coleottero\"],\n",
    "        \"immunità\": [\"Terra\"],\n",
    "        \"superefficacie\": [\"Erba\", \"Lotta\", \"Coleottero\"]\n",
    "    },\n",
    "    \"Psico\": {\n",
    "        \"debolezze\": [\"Buio\", \"Spettro\", \"Coleottero\"],\n",
    "        \"resistenze\": [\"Lotta\", \"Psico\"],\n",
    "        \"immunità\": [],\n",
    "        \"superefficacie\": [\"Lotta\", \"Veleno\"]\n",
    "    },\n",
    "    \"Coleottero\": {\n",
    "        \"debolezze\": [\"Fuoco\", \"Volante\", \"Roccia\"],\n",
    "        \"resistenze\": [\"Erba\", \"Lotta\", \"Terra\"],\n",
    "        \"immunità\": [],\n",
    "        \"superefficacie\": [\"Erba\", \"Psico\", \"Buio\"]\n",
    "    },\n",
    "    \"Roccia\": {\n",
    "        \"debolezze\": [\"Acqua\", \"Erba\", \"Lotta\", \"Acciaio\", \"Terra\"],\n",
    "        \"resistenze\": [\"Normale\", \"Fuoco\", \"Veleno\", \"Volante\"],\n",
    "        \"immunità\": [],\n",
    "        \"superefficacie\": [\"Fuoco\", \"Ghiaccio\", \"Volante\", \"Coleottero\"]\n",
    "    },\n",
    "    \"Spettro\": {\n",
    "        \"debolezze\": [\"Spettro\", \"Buio\"],\n",
    "        \"resistenze\": [\"Veleno\", \"Coleottero\"],\n",
    "        \"immunità\": [\"Normale\", \"Lotta\"],\n",
    "        \"superefficacie\": [\"Psico\", \"Spettro\"]\n",
    "    },\n",
    "    \"Drago\": {\n",
    "        \"debolezze\": [\"Ghiaccio\", \"Drago\", \"Folletto\"],\n",
    "        \"resistenze\": [\"Fuoco\", \"Acqua\", \"Erba\", \"Elettro\"],\n",
    "        \"immunità\": [],\n",
    "        \"superefficacie\": [\"Drago\"]\n",
    "    },\n",
    "    \"Buio\": {\n",
    "        \"debolezze\": [\"Lotta\", \"Coleottero\", \"Folletto\"],\n",
    "        \"resistenze\": [\"Spettro\", \"Buio\"],\n",
    "        \"immunità\": [\"Psico\"],\n",
    "        \"superefficacie\": [\"Psico\", \"Spettro\"]\n",
    "    },\n",
    "    \"Acciaio\": {\n",
    "        \"debolezze\": [\"Fuoco\", \"Lotta\", \"Terra\"],\n",
    "        \"resistenze\": [\"Normale\", \"Volante\", \"Roccia\", \"Coleottero\", \"Acciaio\", \"Erba\", \"Psico\", \"Ghiaccio\", \"Drago\", \"Folletto\"],\n",
    "        \"immunità\": [\"Veleno\"],\n",
    "        \"superefficacie\": [\"Ghiaccio\", \"Roccia\", \"Folletto\"]\n",
    "    },\n",
    "    \"Folletto\": {\n",
    "        \"debolezze\": [\"Acciaio\", \"Veleno\"],\n",
    "        \"resistenze\": [\"Lotta\", \"Coleottero\", \"Buio\"],\n",
    "        \"immunità\": [\"Drago\"],\n",
    "        \"superefficacie\": [\"Lotta\", \"Buio\", \"Drago\"]\n",
    "    }\n",
    "}"
   ]
  },
  {
   "cell_type": "markdown",
   "id": "b8378c2c",
   "metadata": {},
   "source": [
    "definiamo delle funzioni per controllare la bontà della nostra squadra in funzione dei tipi che vengono battuti, ed una funzione per controlare cosa rimane da battere"
   ]
  },
  {
   "cell_type": "code",
   "execution_count": 198,
   "id": "6e5b0130",
   "metadata": {},
   "outputs": [],
   "source": [
    "def covered_types(squad):\n",
    "    \n",
    "    if(len(squad)== 0):return set()\n",
    "\n",
    "    coverage = set(analyzed_type \n",
    "                    for analyzed_type in pokemon_types \n",
    "                    for unchecked_type in pokemon_types[analyzed_type][\"debolezze\"] \n",
    "                    for acquired in squad  if unchecked_type == acquired)\n",
    "    return coverage\n",
    "\n",
    "def uncovered_types(squad):\n",
    "    coverage = covered_types(squad)\n",
    "    \n",
    "    uncovered_types = set(key for key in pokemon_types.keys())\n",
    "    \n",
    "    if len(squad) == 0 or len(coverage)== 0 :\n",
    "        return uncovered_types\n",
    "    else:\n",
    "        return uncovered_types.difference(coverage)\n",
    "# print(covered_types([]))\n",
    "# print(uncovered_types([]))\n"
   ]
  },
  {
   "cell_type": "markdown",
   "id": "a7abc65a",
   "metadata": {},
   "source": [
    "Aggiungiamo un \"peso\" ai tipi, ossia forniamo un parametro per capire quali tipi richiedono più attenzione. \n",
    "Interpreteremo il peso come numero di superefficacie che un tipo ha. Inoltre definiamo delle operazioni da fare sui pesi, come aggiornarli e trovare il \"prossimo\" ossia il peso maggiore tra quelli presenti"
   ]
  },
  {
   "cell_type": "code",
   "execution_count": 199,
   "id": "ed7252d6",
   "metadata": {},
   "outputs": [],
   "source": [
    "def create_weights():return {pkmon_type:len(pokemon_types[pkmon_type][\"superefficacie\"]) for pkmon_type in pokemon_types}\n",
    "\n",
    "def calculate_weight(super_effectivness,useless_types):\n",
    "    weight = len(super_effectivness) - sum(1 for pkmon_type in super_effectivness for useless_type in useless_types if pkmon_type == useless_type)\n",
    "    if weight == 0:\n",
    "        return -1\n",
    "    else:\n",
    "        return weight\n",
    "\n",
    "def update_wheights(types_checked):\n",
    "    return {pkmon_type:calculate_weight(pokemon_types[pkmon_type][\"superefficacie\"],types_checked) for pkmon_type in pokemon_types}\n",
    "\n",
    "def next_weight(weighted_types):\n",
    "    max = 0\n",
    "    for type in weighted_types:\n",
    "        if weighted_types[type] > max :\n",
    "            max = weighted_types[type]\n",
    "    return max\n"
   ]
  },
  {
   "cell_type": "markdown",
   "id": "3e79b22b",
   "metadata": {},
   "source": [
    "infine dobbiamo controllare i tipi che hanno solo 1 debolezza, in quanto questi ci forzano a prendere la loro debolezza nella coverage"
   ]
  },
  {
   "cell_type": "code",
   "execution_count": 200,
   "id": "8dbd9b7e",
   "metadata": {},
   "outputs": [],
   "source": [
    "def initialize_squad(squad=[]):\n",
    "    #scrito qui solo per migliorare la leggibilità del codice\n",
    "    mandatory_types = {pokemon_types[pkmon_type][\"debolezze\"][0] for pkmon_type in pokemon_types if len(pokemon_types[pkmon_type][\"debolezze\"]) == 1}\n",
    "    return list(dict.fromkeys([*squad,*mandatory_types]))\n",
    "# print (initialize_squad())"
   ]
  },
  {
   "cell_type": "markdown",
   "id": "3a0d5b7a",
   "metadata": {},
   "source": [
    "adesso dobbiamo controllare il prossimo tipo da prendere per continuare la copertura, per farlo sfruttiamo i pesi"
   ]
  },
  {
   "cell_type": "code",
   "execution_count": 201,
   "id": "ecffde3e",
   "metadata": {},
   "outputs": [],
   "source": [
    "def next_types_to_add(coverage):\n",
    "\n",
    "    if(len(coverage)==0):return set(initialize_squad());\n",
    "\n",
    "    updated = update_wheights(coverage)\n",
    "    \n",
    "    return set(\n",
    "            pkmon_type \n",
    "            for pkmon_type in pokemon_types \n",
    "            for covered_type in coverage \n",
    "            if pkmon_type != covered_type and updated[pkmon_type] == next_weight(updated)\n",
    "    )\n"
   ]
  },
  {
   "cell_type": "markdown",
   "id": "86c6fbde",
   "metadata": {},
   "source": [
    "L'obiettivo è quindi minimizzare il numero di pokemon richiesti per battere tutti i tipi, avendo 6 come numero massimo ed 1 come minimo.\n",
    "\n",
    "la squadra è quindi una lista di Pokemon, che al momento non definiamo in quanto sono una quantità mastodontica, pertanto considereremo solo il massimo numero di tipi che 6 pokemon possono avere ossia 12.\n",
    "\n",
    "Infine per avere il risultato minore possibile partiremo da una squadra vuota, ma è sempre possibile aggiungere i tipi per vedere come completare la squadra.\n",
    "Per raggiungere il nostro obiettivo dobbiamo rendere iterativa questa procedura, per farlo necessitiamo di una funzione che unisca le varie funzioni definite prima"
   ]
  },
  {
   "cell_type": "code",
   "execution_count": 202,
   "id": "cb6957eb",
   "metadata": {},
   "outputs": [],
   "source": [
    "def find_best_types(squad,want_print = True ):\n",
    "    #cerco i tipi richiesti\n",
    "    requested_types = uncovered_types(squad);\n",
    "    #se non ne ho allora non devo fare niente\n",
    "    if len(requested_types)== 0 :return print('La tua squadra batte già tutti i tipi, complimenti!')\n",
    "    #creo la coverage dei tipi in base alla squadra\n",
    "    coverage = covered_types(squad)\n",
    "    #cerco i prossimi tipi da far aggiungere all'utente\n",
    "    suggested_types = next_types_to_add(coverage)\n",
    "    if want_print: print(f'La squadra ha bisogno di questi tipi: {suggested_types}')\n",
    "    return suggested_types"
   ]
  },
  {
   "cell_type": "markdown",
   "id": "7150bcd1",
   "metadata": {},
   "source": [
    "Infine dobbiamo aggiungere l'interazione con l'utente per permettere di inserire il tipo, con dei controlli per avere la prima lettera in uppercase e tutto il resto della stringa in lower"
   ]
  },
  {
   "cell_type": "code",
   "execution_count": 203,
   "id": "630f8bcf",
   "metadata": {},
   "outputs": [],
   "source": [
    "def wants_to_exit(user_input):\n",
    "    if user_input==\" \":return True\n",
    "    if user_input==\"\":return True\n",
    "    if user_input==\"\\n\":return True\n",
    "    \n",
    "    return False\n",
    "\n",
    "\n",
    "\n",
    "def insertType(next_type,squad=[]):\n",
    "    try:\n",
    "        next_type = next_type.lower()\n",
    "        if wants_to_exit(next_type):return \"exit\"\n",
    "        next_type = next_type[0].upper()+next_type[1:]\n",
    "        assert next_type in pokemon_types, f\"{next_type} non è un tipo Pokémon valido\"\n",
    "        squad.append(next_type)\n",
    "        return next_type\n",
    "    except AssertionError as error:\n",
    "        print(f'{error}')\n",
    "        return error\n"
   ]
  },
  {
   "cell_type": "markdown",
   "id": "a8b85789",
   "metadata": {},
   "source": [
    "Adesso bisogna solo iterare il procedimento finchè la copertura non è completa"
   ]
  },
  {
   "cell_type": "code",
   "execution_count": 204,
   "id": "eecc38af",
   "metadata": {},
   "outputs": [],
   "source": [
    "import math\n",
    "def interactive_calculate_coverage(squad):\n",
    "    first = True\n",
    "    while len(covered_types(squad)) <18 and (math.ceil(len(squad)/2) <6 or len(squad) <12):\n",
    "        print(f'Squadra attuale: {squad}')\n",
    "        if first:\n",
    "            squad = initialize_squad(squad)\n",
    "            first = False\n",
    "            print(f'Alla tua squadra sono stati aggiunti i tipi: {initialize_squad()}, in quanto sono necessari per battere tipi con una sola debolezza')\n",
    "            continue\n",
    "        find_best_types(squad)\n",
    "        next_type = insertType(input('Inserisci il prossimo tipo: '),squad)\n",
    "        if next_type == 'exit': return squad \n",
    "        print(f'Tipo {next_type} aggiunto')\n",
    "    \n",
    "    if len(covered_types(squad))<18:print(f'Purtroppo la tua squadra non riesce a battere tutti i tipi')\n",
    "    else: print(f'La tua squadra {squad} batte tutti i tipi, utilizzando {math.ceil(len(squad)/2)}')\n",
    "    \n",
    "    return squad\n",
    "# interactive_calculate_coverage([]);"
   ]
  },
  {
   "cell_type": "markdown",
   "id": "103b367e",
   "metadata": {},
   "source": [
    "Mentre se preferiamo avere un'algoritmo autonomo possiamo modificare leggermente il codice, consentendo sempre all'utente di scegliere la composizione iniziale"
   ]
  },
  {
   "cell_type": "code",
   "execution_count": 205,
   "id": "7c891e67",
   "metadata": {},
   "outputs": [],
   "source": [
    "def calculate_coverage(squad,want_print = True):\n",
    "    first = True\n",
    "    while len(covered_types(squad)) <18:\n",
    "        if want_print: print(f'Squadra attuale: {squad}')\n",
    "        if first:\n",
    "            squad = initialize_squad(squad)\n",
    "            first = False\n",
    "            if want_print:print(f'Alla tua squadra sono stati aggiunti i tipi: {initialize_squad()}, in quanto sono necessari per battere tipi con una sola debolezza')\n",
    "            continue\n",
    "        suggested_types = find_best_types(squad,want_print)\n",
    "        if want_print:print(suggested_types)\n",
    "        if suggested_types: squad.append(suggested_types.pop())\n",
    "    print(f'La tua squadra {squad} batte tutti i tipi')\n",
    "    return squad\n",
    "\n",
    "# calculate_coverage([],False);"
   ]
  },
  {
   "cell_type": "markdown",
   "id": "9f7ed85c",
   "metadata": {},
   "source": [
    "Adesso che la copertura è completa possiamo passare al calcolo delle combinazioni di tipi pokemon disponibili, per farlo definiamo una funzione che data una squadra ci restituisce un set di combinazioni"
   ]
  },
  {
   "cell_type": "code",
   "execution_count": 206,
   "id": "07d0a85d",
   "metadata": {},
   "outputs": [],
   "source": [
    "import itertools\n",
    "\n",
    "def calculate_combinations(squad):\n",
    "    return list(itertools.combinations(squad, 2))\n",
    "\n",
    "def pretty_print_combs(combs_list):\n",
    "    i = 1\n",
    "    for comb in combs_list:\n",
    "        print(comb,end=\"\\t\")\n",
    "        if i%7== 0 :\n",
    "            print('\\n')\n",
    "        i+=1\n",
    "    return\n",
    "\n",
    "def pretty_comb(combs):\n",
    "    for comb in combs:\n",
    "        print(comb)\n",
    "        \n",
    "# squad = [\"Terra\",\"Lotta\",\"Elettro\",\"Acqua\",\"Volante\"]\n",
    "# combs = calculate_combinations(calculate_coverage([],False))\n",
    "# print(f'Hai a disposizione {len(combs)} combinazioni di tipi, che sono elencate di seguito')\n",
    "# pretty_print_combs(combs)"
   ]
  },
  {
   "cell_type": "markdown",
   "id": "c62e7b65",
   "metadata": {},
   "source": [
    "Adesso Pensiamo a rendere più User-Friendy il progetto dando la possibiiltà di modificare la squadra di partenza direttamente da input"
   ]
  },
  {
   "cell_type": "code",
   "execution_count": 207,
   "id": "32aec403",
   "metadata": {},
   "outputs": [],
   "source": [
    "def user_init_squad(squad=[]):\n",
    "    next_type = \"init\"\n",
    "    while next_type != \"exit\":\n",
    "        next_type = insertType(input(\"Inserisci il prossimo tipo: \"),squad)\n",
    "        print(next_type)\n",
    "    return squad"
   ]
  },
  {
   "cell_type": "markdown",
   "id": "7034c207",
   "metadata": {},
   "source": [
    "Infine definiamo disponiamo una cella per poter invocare le funzioni definite in precedenza, ed ottenere quindi il risultato desiderato."
   ]
  },
  {
   "cell_type": "code",
   "execution_count": 208,
   "id": "1b075185",
   "metadata": {},
   "outputs": [],
   "source": [
    "# print(\"Scegli i tipi iniziali dei pokemon che vuoi avere in squadra, oppure metti quelli che hai già; Appena hai finito premi invio per uscire\")\n",
    "\n",
    "# squad = user_init_squad();\n",
    "\n",
    "# print(f\"La tua squadra ha attualmente questi tipi: {squad}\");\n",
    "\n",
    "# interactive_calculate_coverage(squad)\n",
    "# coverage = calculate_coverage([],False)\n",
    "\n",
    "# combs = calculate_combinations(coverage)\n",
    "# print(f'Hai a disposizione {len(combs)} combinazioni di tipi, che sono elencate di seguito')\n",
    "\n",
    "# pretty_print_combs(combs)\n"
   ]
  },
  {
   "cell_type": "markdown",
   "id": "82e3da2f",
   "metadata": {},
   "source": [
    "L'obiettivo è stato raggiunto anche se in maniera parziale, in quanto questi sono solo tipi e non vengono considerate le combinazioni di tipi non attualmente esistenti e soprattutto questi non sono pokemon.\n",
    "Per fare questo dobbiamo appoggiarci al web scraping(devo ancora capire come farlo) recuperando in primo luogo tutte le combinazioni di tipo esistenti, e solo successivamente tutti i pokemon che rientrano nelle combinazioni di tipi esistenti. "
   ]
  },
  {
   "cell_type": "markdown",
   "id": "47f5670a",
   "metadata": {},
   "source": [
    "Adesso dobbiamo occuparci di recuperare i tipi da Bulbapedia, per fare questo utilizziamo BeautifulSoup, che ci restituisce l'intera pagina del pokedex nazionale, dove vengono elencati i pokemon. divisi per generazione."
   ]
  },
  {
   "cell_type": "code",
   "execution_count": 209,
   "id": "119b2cf4",
   "metadata": {},
   "outputs": [],
   "source": [
    "import requests\n",
    "import urllib.robotparser\n",
    "from bs4 import BeautifulSoup\n",
    "# URL of the website you want to scrape\n",
    "base_url = 'https://bulbapedia.bulbagarden.net/wiki/'\n",
    "\n",
    "# Parse the robots.txt file\n",
    "rp = urllib.robotparser.RobotFileParser()\n",
    "rp.set_url(base_url + 'robots.txt')\n",
    "rp.read()\n",
    "\n",
    "# Function to check if a URL is allowed by robots.txt\n",
    "def is_allowed(url):\n",
    "    return rp.can_fetch('*', url)\n",
    "\n",
    "# Function to scrape a URL if allowed by robots.txt\n",
    "def scrape_url(url):\n",
    "    if is_allowed(url):\n",
    "        response = requests.get(url)\n",
    "        return response.text\n",
    "    else:\n",
    "        print(f\"Scraping blocked by robots.txt: {url}\")\n",
    "        return 'blocked'\n",
    "# Example usage\n",
    "\n",
    "result = scrape_url(base_url + 'List_of_Pok%C3%A9mon_by_National_Pok%C3%A9dex_number')\n",
    "\n",
    "#se non ho potuto scrapare allora esco\n",
    "if result== 'blocked':\n",
    "    exit(0)\n",
    "\n",
    "soup = BeautifulSoup(result,'html.parser')\n",
    "\n",
    "table = soup.find_all('table',class_='roundy')"
   ]
  },
  {
   "cell_type": "markdown",
   "id": "5bedbf0a",
   "metadata": {},
   "source": [
    "Table contiene 9 tabelle, una per generazione"
   ]
  },
  {
   "cell_type": "code",
   "execution_count": 210,
   "id": "ecc225c6",
   "metadata": {},
   "outputs": [],
   "source": [
    "first_gen = table[0]\n",
    "second_gen = table[1]\n",
    "third_gen = table[2]\n",
    "fourth_gen = table[3]\n",
    "fifth_gen = table[4]\n",
    "sixth_gen = table[5]\n",
    "seventh_gen = table[6]\n",
    "eight_gen = table[7]\n",
    "ninth_gen = table[8]"
   ]
  },
  {
   "cell_type": "markdown",
   "id": "cffbf0fd",
   "metadata": {},
   "source": [
    "Dobbiamo inoltre Tradurre i tipi pokemon in quanto bulbapedia è la wiki inglese, pertanto il nostro programma non sarebbe in grado di matchare la coverage ottenuta con i tipi scrapati"
   ]
  },
  {
   "cell_type": "code",
   "execution_count": 211,
   "id": "d26f6752",
   "metadata": {},
   "outputs": [],
   "source": [
    "translation_dict = {\n",
    "    'Normal' : 'Normale',\n",
    "    'Fighting' : 'Lotta',\n",
    "    'Flying' : 'Volante',\n",
    "    'Poison' : 'Veleno',\n",
    "    'Ground' : 'Terra',\n",
    "    'Rock' : 'Roccia',\n",
    "    'Bug' : 'Coleottero',\n",
    "    'Ghost' : 'Spettro',\n",
    "    'Steel' : 'Acciaio',\n",
    "    'Fire' : 'Fuoco',\n",
    "    'Water' : 'Acqua',\n",
    "    'Grass' : 'Erba',\n",
    "    'Electric' : 'Elettro',\n",
    "    'Psychic' : 'Psichico',\n",
    "    'Ice' : 'Ghiaccio',\n",
    "    'Dragon' : 'Drago',\n",
    "    'Dark' : 'Buio',\n",
    "    'Fairy' : 'Folletto',\n",
    "}"
   ]
  },
  {
   "cell_type": "markdown",
   "id": "903a91b1",
   "metadata": {},
   "source": [
    "Successivamente procediamo a convertire in DataFrame le tabelle recuperate sfruttando la funzione convert_from_b4s_to_dataframe"
   ]
  },
  {
   "cell_type": "code",
   "execution_count": 212,
   "id": "f88c5fd6",
   "metadata": {},
   "outputs": [],
   "source": [
    "import pandas as pd\n",
    "def convert_from_b4s_to_dataframe(b4s):\n",
    "    rows = b4s.find_all(\"tr\")\n",
    "    base_headers = [th.get_text(strip=True) for th in rows[0].find_all([\"th\", \"td\"])]\n",
    "    # individua la colonna Type (se c’è) e prepara i nuovi header\n",
    "    type_idx = base_headers.index(\"Type\") if \"Type\" in base_headers else None\n",
    "    core_headers = (base_headers[:type_idx] if type_idx is not None else base_headers)[:3]\n",
    "    #aggiungo le colonne first Type e Second Type per esprimere meglio i valori relativi ai tipi pokemon\n",
    "    headers = core_headers + [\"First Type\", \"Second Type\"]\n",
    "    #Rimuovo ehader MS perchè è adibita all'imamgine ma non ci serve per i nostri scopi\n",
    "    headers.remove('MS')\n",
    "\n",
    "\n",
    "    data = []\n",
    "    last_index_number = '#0001'\n",
    "\n",
    "    for row in rows[1:]:\n",
    "        cells = row.find_all([\"td\", \"th\"])\n",
    "        if not cells:\n",
    "            continue\n",
    "\n",
    "        texts = [cell.get_text(strip=True) for cell in cells]\n",
    "        \n",
    "        base_cells = texts\n",
    "\n",
    "        if base_cells[0] != '':last_index_number = base_cells[0]\n",
    "        base_cells.remove('')\n",
    "        if base_cells[0][0] != '#':\n",
    "            base_cells.reverse()\n",
    "            base_cells.append(last_index_number)\n",
    "            base_cells.reverse()\n",
    "\n",
    "        base_cells[2] = translation_dict[base_cells[2]]\n",
    "        if len(base_cells)>=4 : base_cells[3] = translation_dict[base_cells[3]]\n",
    "\n",
    "        \n",
    "\n",
    "        if any(base_cells):\n",
    "            data.append(base_cells)\n",
    "\n",
    "    return pd.DataFrame(data, columns=headers)"
   ]
  },
  {
   "cell_type": "markdown",
   "id": "eb049077",
   "metadata": {},
   "source": [
    "## Organizzazione Dei DataFrame\n",
    "\n",
    "Sfruttando la suddivisione di Bulbapedia andiamo a creare un **Dataframe** per generazione; Per poi riunirli nella lista di Dataframe **generations**"
   ]
  },
  {
   "cell_type": "code",
   "execution_count": 213,
   "id": "7520f96c",
   "metadata": {},
   "outputs": [],
   "source": [
    "first_gen_df = convert_from_b4s_to_dataframe(first_gen)\n",
    "second_gen_df = convert_from_b4s_to_dataframe(second_gen)\n",
    "third_gen_df = convert_from_b4s_to_dataframe(third_gen)\n",
    "fourth_gen_df = convert_from_b4s_to_dataframe(fourth_gen)\n",
    "fifth_gen_df = convert_from_b4s_to_dataframe(fifth_gen)\n",
    "sixth_gen_df = convert_from_b4s_to_dataframe(sixth_gen)\n",
    "seventh_gen_df = convert_from_b4s_to_dataframe(seventh_gen)\n",
    "eight_gen_df = convert_from_b4s_to_dataframe(eight_gen)\n",
    "ninth_gen_df = convert_from_b4s_to_dataframe(ninth_gen)\n",
    "\n",
    "generations = [first_gen_df,second_gen_df,third_gen_df,fourth_gen_df,fifth_gen_df,sixth_gen_df,seventh_gen_df,eight_gen_df,ninth_gen_df]\n",
    "\n",
    "# for i,gen in enumerate(generations):\n",
    "#     print(f'Pokemon di {i+1}° Generazione:')\n",
    "#     display(gen.head(20))\n"
   ]
  },
  {
   "cell_type": "markdown",
   "id": "e531d783",
   "metadata": {},
   "source": [
    "# Definizione delle funzioni per manipolare i Dataframe\n",
    "\n",
    "Per manipolare i dataframe abbiamo bisogno di varie funzioni che ci permettano di creare maschere per interrogare il Dataframe e ridurlo a piacimento. Inoltre dobbiamo anche definire una funzione per creare il dataframe di nostro interesse."
   ]
  },
  {
   "cell_type": "code",
   "execution_count": 214,
   "id": "e949e243",
   "metadata": {},
   "outputs": [],
   "source": [
    "def create_mask(clauses):\n",
    "    mask = clauses[0]\n",
    "    for clause in clauses[1:]:\n",
    "        mask = mask & clause\n",
    "    return mask\n",
    "\n",
    "\n",
    "def reduce_df(dataframe,types):\n",
    "    if not types:\n",
    "        return dataframe\n",
    "    \n",
    "    hits = pd.Series(0, index=dataframe.index, dtype=\"int64\")\n",
    "\n",
    "    for type_name in types:\n",
    "        clause = (\n",
    "            (dataframe[\"First Type\"] == type_name) |\n",
    "            (dataframe[\"Second Type\"] == type_name)\n",
    "        )\n",
    "        hits += clause.astype(\"int64\")  # conta i match\n",
    "\n",
    "    mask = hits <= 1  # sopravvivono solo i Pokémon con 0 o 1 match\n",
    "    return dataframe[mask]\n",
    "\n",
    "\n",
    "def build_extensive_pokemon_df(coverage):\n",
    "    pokemon = pd.DataFrame()\n",
    "    for type in coverage:\n",
    "        for gen in generations:\n",
    "            second_clause = gen['Second Type'] == type\n",
    "            first_clause = gen['First Type'] == type\n",
    "            element = gen[ first_clause | second_clause]\n",
    "            if not element.empty:\n",
    "                pokemon = pd.concat([pokemon,element])\n",
    "    return pokemon\n",
    "\n"
   ]
  },
  {
   "cell_type": "markdown",
   "id": "4078415f",
   "metadata": {},
   "source": [
    "## Scelta dei pokemon e creazione della squadra\n",
    "\n",
    "Infine bisogna definire delle funzioni per gestire la creazione dei pokemon, per il momento solo dal punto di vista algoritmico senza interfaccairsi con l'utente"
   ]
  },
  {
   "cell_type": "code",
   "execution_count": 215,
   "id": "b33d6f1d",
   "metadata": {},
   "outputs": [],
   "source": [
    "import numpy as np\n",
    "\n",
    "def choose_pkmon(pokemon,squad,choice):\n",
    "  \n",
    "    mask = create_mask([( pokemon['First Type'] == type) | (pokemon['Second Type'] == type ) for type in choice ])\n",
    "\n",
    "    pick = pokemon.loc[mask].head(1)\n",
    "    \n",
    "    if not squad.empty:\n",
    "        covers_all = all(\n",
    "            ((squad['First Type'] == t) | (squad['Second Type'] == t)).any()\n",
    "            for t in choice\n",
    "        )\n",
    "\n",
    "        if covers_all:\n",
    "            return squad\n",
    "    \n",
    "    return pd.concat([squad,pick])\n",
    "\n",
    "def squad_building_step(pokemon,combs,squad):\n",
    "    #scelta randomica in base ai tipi possibili\n",
    "    choice = combs[np.random.randint(0,len(combs))]\n",
    "    combs.remove(choice)\n",
    "    len_ = len(squad)\n",
    "    squad = choose_pkmon(pokemon,squad,choice)\n",
    "    #se non ho aggiunto ritorno\n",
    "    if len_ == len(squad): return [pokemon,combs,squad]\n",
    "    \n",
    "    pokemon = reduce_df(pokemon,choice)\n",
    "    return [pokemon, combs,squad]\n",
    "\n",
    "\n",
    "# #variabile ausiliaria per simulare la scelta dell'utente, forse potrei rendere choice un'insieme di combs e pickare a random, togliendo via via i tipi già messi\n",
    "# choice = [['Lotta','Volante'],['Ghiaccio','Spettro'],['Erba','Veleno'],['Terra','Acciaio']]\n",
    "\n"
   ]
  },
  {
   "cell_type": "markdown",
   "id": "4af57750",
   "metadata": {},
   "source": [
    "## Adesso definiamo Finalmente la funzione che ci permette di creare una squadra di pokemon\n",
    "Questa funzione richiede una coverage tramite la quale calcolerà le combinazioni possibili, oltre a creare un Dataframe contenente solo i pokemon con i tipi presenti nella coverage, e successivamente eseguirà in un loop la funzione **squad_building_step** per aggiungere via via un pokemon alla squadra. Questa aggiunta è randomica ed avviene mediante un'indice random dell'array **combs** il quale contiene la combinazione di tipo da cercare sul DataFrame, ed in caso di hit la restituisce"
   ]
  },
  {
   "cell_type": "code",
   "execution_count": 216,
   "id": "29d16628",
   "metadata": {},
   "outputs": [],
   "source": [
    "def choose_your_pokemon(coverage):\n",
    "    np.random.seed()\n",
    "    squad = pd.DataFrame()\n",
    "    combs = calculate_combinations(coverage)\n",
    "\n",
    "    #creo il dataframe in base ai tipi necessari\n",
    "    pokemon = build_extensive_pokemon_df(coverage)\n",
    "    \n",
    "    while(len(combs)>0 and len(squad)<6):\n",
    "        [pokemon,combs,squad] = squad_building_step(pokemon,combs,squad)\n",
    "\n",
    "    return squad\n"
   ]
  },
  {
   "cell_type": "markdown",
   "id": "17e6a129",
   "metadata": {},
   "source": [
    "## Simulazione Funzionamento\n"
   ]
  },
  {
   "cell_type": "code",
   "execution_count": 217,
   "id": "dca458bf",
   "metadata": {},
   "outputs": [],
   "source": [
    "# squad = choose_your_pokemon(coverage)\n",
    "# display(squad)"
   ]
  },
  {
   "cell_type": "markdown",
   "id": "062c3073",
   "metadata": {},
   "source": [
    "## Risultati Simulazione\n",
    "\n",
    "Dalla simulazione si evince che tutto funziona correttamente ma, nel dataframe non sono contenute abbastanza informazioni per rendere la squadra costruita simile ad una \"standard\", ossia includendo solo stadi finali dei pokemon ed escludendo leggendari e misteriosi.\n",
    "Inoltre non è possibile usare questo algoritmo per giochi pokemon successivi all'ottava Generazione, in quanto non stiamo controllando la presenza dei pokemon nel gioco desiderato"
   ]
  },
  {
   "cell_type": "markdown",
   "id": "d2b3b92a",
   "metadata": {},
   "source": [
    "## Soluzione Parziale: Interazione con L'utente\n",
    "\n",
    "Una soluzione immediata è far interagire l'utente col programma e lasciare a lui la scelta dei pokemon, Rimane sempre il problema con le generazioi successive all'Ottava"
   ]
  },
  {
   "cell_type": "code",
   "execution_count": 218,
   "id": "c43450fb",
   "metadata": {},
   "outputs": [],
   "source": [
    "def type_input(message):\n",
    "    next_type = input(message)\n",
    "    next_type = next_type.lower()\n",
    "    if wants_to_exit(next_type):return \"exit\"\n",
    "    next_type = next_type[0].upper()+next_type[1:]\n",
    "    assert next_type in pokemon_types, f\"{next_type} non è un tipo Pokémon valido\"\n",
    "    return next_type\n",
    "\n",
    "def interactive_choose_pokemon(pokemon,choice):\n",
    "  \n",
    "    mask = create_mask([( pokemon['First Type'] == type) | (pokemon['Second Type'] == type ) for type in choice ])\n",
    "\n",
    "    possible_picks = pokemon.loc[mask].drop_duplicates()\n",
    "    display(possible_picks)\n",
    "\n",
    "    chosen_pokemon = input('inserisci il nome del pokemon che vorresti aggiungere alla squadra')\n",
    "    print(chosen_pokemon)\n",
    "    \n",
    "    chosen = possible_picks[possible_picks['Pokémon'] == chosen_pokemon] \n",
    "    if chosen.empty:\n",
    "        return None\n",
    "    else:\n",
    "        return chosen.iloc[0]['Pokémon']\n",
    "\n",
    "\n",
    "def reduce_coverage(coverage,choices):\n",
    "    for choice in choices:\n",
    "        for type in coverage:\n",
    "            if type == choice:\n",
    "                coverage.remove(choice)\n",
    "    return coverage\n",
    "\n",
    "\n",
    "def interactive_squad_building_step(pokemon,squad,coverage):\n",
    "    display(coverage)\n",
    "    choices = []\n",
    "    while len(choices)<2:\n",
    "        choice = type_input('Scegli una delle combinazioni di tipi elencati per cercare un pokemon corrispondente, (esempio Terra,Lotta)')\n",
    "        if choice == 'exit':\n",
    "            if len(choices)>0:\n",
    "                break\n",
    "            else: \n",
    "                continue\n",
    "        choices.append(choice)\n",
    "    \n",
    "    \n",
    "    #scelta randomica in base ai tipi possibili\n",
    "    chosen = interactive_choose_pokemon(pokemon,choices)\n",
    "\n",
    "    if chosen == None:\n",
    "        return [pokemon,squad,coverage]\n",
    "    \n",
    "    picked = pokemon[pokemon['Pokémon'] == chosen]\n",
    "    squad = pd.concat([squad,picked])\n",
    "    chosen_types = [picked.iloc[0]['First Type'], picked.iloc[0]['Second Type']]\n",
    "    coverage = reduce_coverage(coverage,chosen_types)\n",
    "    pokemon = reduce_df(pokemon,choices)\n",
    "    \n",
    "    return [pokemon,squad,coverage]\n",
    "\n",
    "\n",
    "\n",
    "def interactive_choose_your_pokemon(coverage):\n",
    "    squad = pd.DataFrame()\n",
    "    # combs = calculate_combinations(coverage)\n",
    "\n",
    "    #creo il dataframe in base ai tipi necessari\n",
    "    pokemon = build_extensive_pokemon_df(coverage)\n",
    "    pokemon = pokemon.drop_duplicates()\n",
    "    while(len(coverage)>0 and len(squad)<6):\n",
    "        \n",
    "        [pokemon,squad,coverage] = interactive_squad_building_step(pokemon,squad,coverage)\n",
    "        display(squad)\n",
    "\n",
    "    return squad"
   ]
  },
  {
   "cell_type": "markdown",
   "id": "aba17b15",
   "metadata": {},
   "source": [
    "## Cella di Test\n"
   ]
  },
  {
   "cell_type": "code",
   "execution_count": 219,
   "id": "9e6c9e1e",
   "metadata": {},
   "outputs": [
    {
     "name": "stdout",
     "output_type": "stream",
     "text": [
      "La tua squadra ['Terra', 'Lotta', 'Ghiaccio', 'Volante', 'Spettro', 'Veleno', 'Elettro'] batte tutti i tipi\n"
     ]
    },
    {
     "data": {
      "text/plain": [
       "['Terra', 'Lotta', 'Ghiaccio', 'Volante', 'Spettro', 'Veleno', 'Elettro']"
      ]
     },
     "metadata": {},
     "output_type": "display_data"
    },
    {
     "data": {
      "text/html": [
       "<div>\n",
       "<style scoped>\n",
       "    .dataframe tbody tr th:only-of-type {\n",
       "        vertical-align: middle;\n",
       "    }\n",
       "\n",
       "    .dataframe tbody tr th {\n",
       "        vertical-align: top;\n",
       "    }\n",
       "\n",
       "    .dataframe thead th {\n",
       "        text-align: right;\n",
       "    }\n",
       "</style>\n",
       "<table border=\"1\" class=\"dataframe\">\n",
       "  <thead>\n",
       "    <tr style=\"text-align: right;\">\n",
       "      <th></th>\n",
       "      <th>Ndex</th>\n",
       "      <th>Pokémon</th>\n",
       "      <th>First Type</th>\n",
       "      <th>Second Type</th>\n",
       "    </tr>\n",
       "  </thead>\n",
       "  <tbody>\n",
       "    <tr>\n",
       "      <th>87</th>\n",
       "      <td>#0984</td>\n",
       "      <td>Great Tusk</td>\n",
       "      <td>Terra</td>\n",
       "      <td>Lotta</td>\n",
       "    </tr>\n",
       "  </tbody>\n",
       "</table>\n",
       "</div>"
      ],
      "text/plain": [
       "     Ndex     Pokémon First Type Second Type\n",
       "87  #0984  Great Tusk      Terra       Lotta"
      ]
     },
     "metadata": {},
     "output_type": "display_data"
    },
    {
     "name": "stdout",
     "output_type": "stream",
     "text": [
      "Great Tusk\n"
     ]
    },
    {
     "data": {
      "text/html": [
       "<div>\n",
       "<style scoped>\n",
       "    .dataframe tbody tr th:only-of-type {\n",
       "        vertical-align: middle;\n",
       "    }\n",
       "\n",
       "    .dataframe tbody tr th {\n",
       "        vertical-align: top;\n",
       "    }\n",
       "\n",
       "    .dataframe thead th {\n",
       "        text-align: right;\n",
       "    }\n",
       "</style>\n",
       "<table border=\"1\" class=\"dataframe\">\n",
       "  <thead>\n",
       "    <tr style=\"text-align: right;\">\n",
       "      <th></th>\n",
       "      <th>Ndex</th>\n",
       "      <th>Pokémon</th>\n",
       "      <th>First Type</th>\n",
       "      <th>Second Type</th>\n",
       "    </tr>\n",
       "  </thead>\n",
       "  <tbody>\n",
       "    <tr>\n",
       "      <th>87</th>\n",
       "      <td>#0984</td>\n",
       "      <td>Great Tusk</td>\n",
       "      <td>Terra</td>\n",
       "      <td>Lotta</td>\n",
       "    </tr>\n",
       "  </tbody>\n",
       "</table>\n",
       "</div>"
      ],
      "text/plain": [
       "     Ndex     Pokémon First Type Second Type\n",
       "87  #0984  Great Tusk      Terra       Lotta"
      ]
     },
     "metadata": {},
     "output_type": "display_data"
    },
    {
     "data": {
      "text/plain": [
       "['Ghiaccio', 'Volante', 'Spettro', 'Veleno', 'Elettro']"
      ]
     },
     "metadata": {},
     "output_type": "display_data"
    },
    {
     "data": {
      "text/html": [
       "<div>\n",
       "<style scoped>\n",
       "    .dataframe tbody tr th:only-of-type {\n",
       "        vertical-align: middle;\n",
       "    }\n",
       "\n",
       "    .dataframe tbody tr th {\n",
       "        vertical-align: top;\n",
       "    }\n",
       "\n",
       "    .dataframe thead th {\n",
       "        text-align: right;\n",
       "    }\n",
       "</style>\n",
       "<table border=\"1\" class=\"dataframe\">\n",
       "  <thead>\n",
       "    <tr style=\"text-align: right;\">\n",
       "      <th></th>\n",
       "      <th>Ndex</th>\n",
       "      <th>Pokémon</th>\n",
       "      <th>First Type</th>\n",
       "      <th>Second Type</th>\n",
       "    </tr>\n",
       "  </thead>\n",
       "  <tbody>\n",
       "    <tr>\n",
       "      <th>98</th>\n",
       "      <td>#0478</td>\n",
       "      <td>Froslass</td>\n",
       "      <td>Ghiaccio</td>\n",
       "      <td>Spettro</td>\n",
       "    </tr>\n",
       "  </tbody>\n",
       "</table>\n",
       "</div>"
      ],
      "text/plain": [
       "     Ndex   Pokémon First Type Second Type\n",
       "98  #0478  Froslass   Ghiaccio     Spettro"
      ]
     },
     "metadata": {},
     "output_type": "display_data"
    },
    {
     "name": "stdout",
     "output_type": "stream",
     "text": [
      "Froslass\n"
     ]
    },
    {
     "data": {
      "text/html": [
       "<div>\n",
       "<style scoped>\n",
       "    .dataframe tbody tr th:only-of-type {\n",
       "        vertical-align: middle;\n",
       "    }\n",
       "\n",
       "    .dataframe tbody tr th {\n",
       "        vertical-align: top;\n",
       "    }\n",
       "\n",
       "    .dataframe thead th {\n",
       "        text-align: right;\n",
       "    }\n",
       "</style>\n",
       "<table border=\"1\" class=\"dataframe\">\n",
       "  <thead>\n",
       "    <tr style=\"text-align: right;\">\n",
       "      <th></th>\n",
       "      <th>Ndex</th>\n",
       "      <th>Pokémon</th>\n",
       "      <th>First Type</th>\n",
       "      <th>Second Type</th>\n",
       "    </tr>\n",
       "  </thead>\n",
       "  <tbody>\n",
       "    <tr>\n",
       "      <th>87</th>\n",
       "      <td>#0984</td>\n",
       "      <td>Great Tusk</td>\n",
       "      <td>Terra</td>\n",
       "      <td>Lotta</td>\n",
       "    </tr>\n",
       "    <tr>\n",
       "      <th>98</th>\n",
       "      <td>#0478</td>\n",
       "      <td>Froslass</td>\n",
       "      <td>Ghiaccio</td>\n",
       "      <td>Spettro</td>\n",
       "    </tr>\n",
       "  </tbody>\n",
       "</table>\n",
       "</div>"
      ],
      "text/plain": [
       "     Ndex     Pokémon First Type Second Type\n",
       "87  #0984  Great Tusk      Terra       Lotta\n",
       "98  #0478    Froslass   Ghiaccio     Spettro"
      ]
     },
     "metadata": {},
     "output_type": "display_data"
    },
    {
     "data": {
      "text/plain": [
       "['Volante', 'Veleno', 'Elettro']"
      ]
     },
     "metadata": {},
     "output_type": "display_data"
    },
    {
     "data": {
      "text/html": [
       "<div>\n",
       "<style scoped>\n",
       "    .dataframe tbody tr th:only-of-type {\n",
       "        vertical-align: middle;\n",
       "    }\n",
       "\n",
       "    .dataframe tbody tr th {\n",
       "        vertical-align: top;\n",
       "    }\n",
       "\n",
       "    .dataframe thead th {\n",
       "        text-align: right;\n",
       "    }\n",
       "</style>\n",
       "<table border=\"1\" class=\"dataframe\">\n",
       "  <thead>\n",
       "    <tr style=\"text-align: right;\">\n",
       "      <th></th>\n",
       "      <th>Ndex</th>\n",
       "      <th>Pokémon</th>\n",
       "      <th>First Type</th>\n",
       "      <th>Second Type</th>\n",
       "    </tr>\n",
       "  </thead>\n",
       "  <tbody>\n",
       "    <tr>\n",
       "      <th>178</th>\n",
       "      <td>#0145</td>\n",
       "      <td>Zapdos</td>\n",
       "      <td>Elettro</td>\n",
       "      <td>Volante</td>\n",
       "    </tr>\n",
       "    <tr>\n",
       "      <th>103</th>\n",
       "      <td>#0479</td>\n",
       "      <td>RotomFan Rotom</td>\n",
       "      <td>Elettro</td>\n",
       "      <td>Volante</td>\n",
       "    </tr>\n",
       "    <tr>\n",
       "      <th>110</th>\n",
       "      <td>#0587</td>\n",
       "      <td>Emolga</td>\n",
       "      <td>Elettro</td>\n",
       "      <td>Volante</td>\n",
       "    </tr>\n",
       "    <tr>\n",
       "      <th>168</th>\n",
       "      <td>#0642</td>\n",
       "      <td>ThundurusIncarnate Forme</td>\n",
       "      <td>Elettro</td>\n",
       "      <td>Volante</td>\n",
       "    </tr>\n",
       "    <tr>\n",
       "      <th>169</th>\n",
       "      <td>#0642</td>\n",
       "      <td>ThundurusTherian Forme</td>\n",
       "      <td>Elettro</td>\n",
       "      <td>Volante</td>\n",
       "    </tr>\n",
       "    <tr>\n",
       "      <th>21</th>\n",
       "      <td>#0741</td>\n",
       "      <td>OricorioPom-Pom Style</td>\n",
       "      <td>Elettro</td>\n",
       "      <td>Volante</td>\n",
       "    </tr>\n",
       "    <tr>\n",
       "      <th>39</th>\n",
       "      <td>#0940</td>\n",
       "      <td>Wattrel</td>\n",
       "      <td>Elettro</td>\n",
       "      <td>Volante</td>\n",
       "    </tr>\n",
       "    <tr>\n",
       "      <th>40</th>\n",
       "      <td>#0941</td>\n",
       "      <td>Kilowattrel</td>\n",
       "      <td>Elettro</td>\n",
       "      <td>Volante</td>\n",
       "    </tr>\n",
       "  </tbody>\n",
       "</table>\n",
       "</div>"
      ],
      "text/plain": [
       "      Ndex                   Pokémon First Type Second Type\n",
       "178  #0145                    Zapdos    Elettro     Volante\n",
       "103  #0479            RotomFan Rotom    Elettro     Volante\n",
       "110  #0587                    Emolga    Elettro     Volante\n",
       "168  #0642  ThundurusIncarnate Forme    Elettro     Volante\n",
       "169  #0642    ThundurusTherian Forme    Elettro     Volante\n",
       "21   #0741     OricorioPom-Pom Style    Elettro     Volante\n",
       "39   #0940                   Wattrel    Elettro     Volante\n",
       "40   #0941               Kilowattrel    Elettro     Volante"
      ]
     },
     "metadata": {},
     "output_type": "display_data"
    },
    {
     "name": "stdout",
     "output_type": "stream",
     "text": [
      "Emolga\n"
     ]
    },
    {
     "data": {
      "text/html": [
       "<div>\n",
       "<style scoped>\n",
       "    .dataframe tbody tr th:only-of-type {\n",
       "        vertical-align: middle;\n",
       "    }\n",
       "\n",
       "    .dataframe tbody tr th {\n",
       "        vertical-align: top;\n",
       "    }\n",
       "\n",
       "    .dataframe thead th {\n",
       "        text-align: right;\n",
       "    }\n",
       "</style>\n",
       "<table border=\"1\" class=\"dataframe\">\n",
       "  <thead>\n",
       "    <tr style=\"text-align: right;\">\n",
       "      <th></th>\n",
       "      <th>Ndex</th>\n",
       "      <th>Pokémon</th>\n",
       "      <th>First Type</th>\n",
       "      <th>Second Type</th>\n",
       "    </tr>\n",
       "  </thead>\n",
       "  <tbody>\n",
       "    <tr>\n",
       "      <th>87</th>\n",
       "      <td>#0984</td>\n",
       "      <td>Great Tusk</td>\n",
       "      <td>Terra</td>\n",
       "      <td>Lotta</td>\n",
       "    </tr>\n",
       "    <tr>\n",
       "      <th>98</th>\n",
       "      <td>#0478</td>\n",
       "      <td>Froslass</td>\n",
       "      <td>Ghiaccio</td>\n",
       "      <td>Spettro</td>\n",
       "    </tr>\n",
       "    <tr>\n",
       "      <th>110</th>\n",
       "      <td>#0587</td>\n",
       "      <td>Emolga</td>\n",
       "      <td>Elettro</td>\n",
       "      <td>Volante</td>\n",
       "    </tr>\n",
       "  </tbody>\n",
       "</table>\n",
       "</div>"
      ],
      "text/plain": [
       "      Ndex     Pokémon First Type Second Type\n",
       "87   #0984  Great Tusk      Terra       Lotta\n",
       "98   #0478    Froslass   Ghiaccio     Spettro\n",
       "110  #0587      Emolga    Elettro     Volante"
      ]
     },
     "metadata": {},
     "output_type": "display_data"
    },
    {
     "data": {
      "text/plain": [
       "['Veleno']"
      ]
     },
     "metadata": {},
     "output_type": "display_data"
    },
    {
     "data": {
      "text/html": [
       "<div>\n",
       "<style scoped>\n",
       "    .dataframe tbody tr th:only-of-type {\n",
       "        vertical-align: middle;\n",
       "    }\n",
       "\n",
       "    .dataframe tbody tr th {\n",
       "        vertical-align: top;\n",
       "    }\n",
       "\n",
       "    .dataframe thead th {\n",
       "        text-align: right;\n",
       "    }\n",
       "</style>\n",
       "<table border=\"1\" class=\"dataframe\">\n",
       "  <thead>\n",
       "    <tr style=\"text-align: right;\">\n",
       "      <th></th>\n",
       "      <th>Ndex</th>\n",
       "      <th>Pokémon</th>\n",
       "      <th>First Type</th>\n",
       "      <th>Second Type</th>\n",
       "    </tr>\n",
       "  </thead>\n",
       "  <tbody>\n",
       "    <tr>\n",
       "      <th>115</th>\n",
       "      <td>#0092</td>\n",
       "      <td>Gastly</td>\n",
       "      <td>Spettro</td>\n",
       "      <td>Veleno</td>\n",
       "    </tr>\n",
       "    <tr>\n",
       "      <th>116</th>\n",
       "      <td>#0093</td>\n",
       "      <td>Haunter</td>\n",
       "      <td>Spettro</td>\n",
       "      <td>Veleno</td>\n",
       "    </tr>\n",
       "    <tr>\n",
       "      <th>117</th>\n",
       "      <td>#0094</td>\n",
       "      <td>Gengar</td>\n",
       "      <td>Spettro</td>\n",
       "      <td>Veleno</td>\n",
       "    </tr>\n",
       "    <tr>\n",
       "      <th>133</th>\n",
       "      <td>#1025</td>\n",
       "      <td>Pecharunt</td>\n",
       "      <td>Veleno</td>\n",
       "      <td>Spettro</td>\n",
       "    </tr>\n",
       "  </tbody>\n",
       "</table>\n",
       "</div>"
      ],
      "text/plain": [
       "      Ndex    Pokémon First Type Second Type\n",
       "115  #0092     Gastly    Spettro      Veleno\n",
       "116  #0093    Haunter    Spettro      Veleno\n",
       "117  #0094     Gengar    Spettro      Veleno\n",
       "133  #1025  Pecharunt     Veleno     Spettro"
      ]
     },
     "metadata": {},
     "output_type": "display_data"
    },
    {
     "name": "stdout",
     "output_type": "stream",
     "text": [
      "Gengar\n"
     ]
    },
    {
     "data": {
      "text/html": [
       "<div>\n",
       "<style scoped>\n",
       "    .dataframe tbody tr th:only-of-type {\n",
       "        vertical-align: middle;\n",
       "    }\n",
       "\n",
       "    .dataframe tbody tr th {\n",
       "        vertical-align: top;\n",
       "    }\n",
       "\n",
       "    .dataframe thead th {\n",
       "        text-align: right;\n",
       "    }\n",
       "</style>\n",
       "<table border=\"1\" class=\"dataframe\">\n",
       "  <thead>\n",
       "    <tr style=\"text-align: right;\">\n",
       "      <th></th>\n",
       "      <th>Ndex</th>\n",
       "      <th>Pokémon</th>\n",
       "      <th>First Type</th>\n",
       "      <th>Second Type</th>\n",
       "    </tr>\n",
       "  </thead>\n",
       "  <tbody>\n",
       "    <tr>\n",
       "      <th>87</th>\n",
       "      <td>#0984</td>\n",
       "      <td>Great Tusk</td>\n",
       "      <td>Terra</td>\n",
       "      <td>Lotta</td>\n",
       "    </tr>\n",
       "    <tr>\n",
       "      <th>98</th>\n",
       "      <td>#0478</td>\n",
       "      <td>Froslass</td>\n",
       "      <td>Ghiaccio</td>\n",
       "      <td>Spettro</td>\n",
       "    </tr>\n",
       "    <tr>\n",
       "      <th>110</th>\n",
       "      <td>#0587</td>\n",
       "      <td>Emolga</td>\n",
       "      <td>Elettro</td>\n",
       "      <td>Volante</td>\n",
       "    </tr>\n",
       "    <tr>\n",
       "      <th>117</th>\n",
       "      <td>#0094</td>\n",
       "      <td>Gengar</td>\n",
       "      <td>Spettro</td>\n",
       "      <td>Veleno</td>\n",
       "    </tr>\n",
       "  </tbody>\n",
       "</table>\n",
       "</div>"
      ],
      "text/plain": [
       "      Ndex     Pokémon First Type Second Type\n",
       "87   #0984  Great Tusk      Terra       Lotta\n",
       "98   #0478    Froslass   Ghiaccio     Spettro\n",
       "110  #0587      Emolga    Elettro     Volante\n",
       "117  #0094      Gengar    Spettro      Veleno"
      ]
     },
     "metadata": {},
     "output_type": "display_data"
    }
   ],
   "source": [
    "coverage = calculate_coverage([],False)\n",
    "squad = interactive_choose_your_pokemon(coverage)"
   ]
  },
  {
   "cell_type": "markdown",
   "id": "a357355c",
   "metadata": {},
   "source": [
    "## Risultati Del Testing\n",
    "\n",
    "Dal testing si riscontra ciò che ci aspettavamo con l'unico problema nella rappresentazione a schermo dei dataframe che essendo molto grandi non possono essere consultati comodamente"
   ]
  }
 ],
 "metadata": {
  "kernelspec": {
   "display_name": "venv (3.13.2)",
   "language": "python",
   "name": "python3"
  },
  "language_info": {
   "codemirror_mode": {
    "name": "ipython",
    "version": 3
   },
   "file_extension": ".py",
   "mimetype": "text/x-python",
   "name": "python",
   "nbconvert_exporter": "python",
   "pygments_lexer": "ipython3",
   "version": "3.13.2"
  }
 },
 "nbformat": 4,
 "nbformat_minor": 5
}
